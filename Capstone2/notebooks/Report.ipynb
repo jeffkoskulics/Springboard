{
 "cells": [
  {
   "cell_type": "markdown",
   "metadata": {},
   "source": [
    "# Report\n",
    "Estimating wine quality with objective chemical test data must never be expected to fully capture all of the factors of a subjective judgement like quality of a wine. However, to some extent, bad wines may contain \"mistakes\", or large, undesired variance in pH, acidity, or the result of some other chemical assays. In other cases, humans simply lack sensitivity to particular parameters (such as chlorides and citric acid). \n",
    "In this problem, we're given an unbalanced class. The sample has lots of scores in the 5-7 range but few 3's and 4's and 8's and 9's. These outstanding wines are what we want to predict. "
   ]
  }
 ],
 "metadata": {
  "kernelspec": {
   "display_name": "Python 3",
   "language": "python",
   "name": "python3"
  },
  "language_info": {
   "codemirror_mode": {
    "name": "ipython",
    "version": 3
   },
   "file_extension": ".py",
   "mimetype": "text/x-python",
   "name": "python",
   "nbconvert_exporter": "python",
   "pygments_lexer": "ipython3",
   "version": "3.7.6"
  }
 },
 "nbformat": 4,
 "nbformat_minor": 4
}
