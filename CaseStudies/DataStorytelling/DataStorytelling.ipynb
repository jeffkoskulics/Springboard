{
 "cells": [
  {
   "cell_type": "markdown",
   "metadata": {},
   "source": [
    "# Data Story\n",
    "## How safe is air travel? \n",
    "Travel by air is considered one of the safest forms of transportation. In the common wisdom, it's much safer to fly than to drive. However, it doesn't always feel that way! Airliners can carry many more people and when they crash, it can be spectacularly horrible. But the numbers can help reassure us. \n",
    "\n",
    "Let's have a look at air travel history from the beginning to see how air safety has changed. \n",
    "\n",
    "Starting with data hosted on Kaggle here:\n",
    "\n",
    "https://www.kaggle.com/imdevskp/air-passengers-and-departures-data-from-19702018\n",
    "\n",
    "we can see every passenger flight that's crashed with fatalities since 1908. This is when the Wright Flyer 3 crashed. Here's it's description:"
   ]
  },
  {
   "cell_type": "code",
   "execution_count": 1,
   "metadata": {},
   "outputs": [
    {
     "data": {
      "text/html": [
       "<div>\n",
       "<style scoped>\n",
       "    .dataframe tbody tr th:only-of-type {\n",
       "        vertical-align: middle;\n",
       "    }\n",
       "\n",
       "    .dataframe tbody tr th {\n",
       "        vertical-align: top;\n",
       "    }\n",
       "\n",
       "    .dataframe thead th {\n",
       "        text-align: right;\n",
       "    }\n",
       "</style>\n",
       "<table border=\"1\" class=\"dataframe\">\n",
       "  <thead>\n",
       "    <tr style=\"text-align: right;\">\n",
       "      <th></th>\n",
       "      <th>Date</th>\n",
       "      <th>Time</th>\n",
       "      <th>Location</th>\n",
       "      <th>Operator</th>\n",
       "      <th>Flight #</th>\n",
       "      <th>Route</th>\n",
       "      <th>AC  Type</th>\n",
       "      <th>Registration</th>\n",
       "      <th>cn / ln</th>\n",
       "      <th>Total Aboard</th>\n",
       "      <th>Passengers Aboard</th>\n",
       "      <th>Crew Aboard</th>\n",
       "      <th>Total Fatalities</th>\n",
       "      <th>Passengers Fatalities</th>\n",
       "      <th>Crew Fatalities</th>\n",
       "      <th>Ground</th>\n",
       "      <th>Summary</th>\n",
       "    </tr>\n",
       "    <tr>\n",
       "      <th>Datetime</th>\n",
       "      <th></th>\n",
       "      <th></th>\n",
       "      <th></th>\n",
       "      <th></th>\n",
       "      <th></th>\n",
       "      <th></th>\n",
       "      <th></th>\n",
       "      <th></th>\n",
       "      <th></th>\n",
       "      <th></th>\n",
       "      <th></th>\n",
       "      <th></th>\n",
       "      <th></th>\n",
       "      <th></th>\n",
       "      <th></th>\n",
       "      <th></th>\n",
       "      <th></th>\n",
       "    </tr>\n",
       "  </thead>\n",
       "  <tbody>\n",
       "    <tr>\n",
       "      <th>1908-09-17</th>\n",
       "      <td>September 17, 1908</td>\n",
       "      <td>17:18</td>\n",
       "      <td>Fort Myer, Virginia</td>\n",
       "      <td>Military - U.S. Army</td>\n",
       "      <td>NaN</td>\n",
       "      <td>Demonstration</td>\n",
       "      <td>Wright Flyer III</td>\n",
       "      <td>NaN</td>\n",
       "      <td>1</td>\n",
       "      <td>2.0</td>\n",
       "      <td>1.0</td>\n",
       "      <td>1.0</td>\n",
       "      <td>1.0</td>\n",
       "      <td>1.0</td>\n",
       "      <td>0.0</td>\n",
       "      <td>0.0</td>\n",
       "      <td>During a demonstration flight, a U.S. Army fly...</td>\n",
       "    </tr>\n",
       "    <tr>\n",
       "      <th>1909-09-07</th>\n",
       "      <td>September 07, 1909</td>\n",
       "      <td>NaN</td>\n",
       "      <td>Juvisy-sur-Orge, France</td>\n",
       "      <td>NaN</td>\n",
       "      <td>NaN</td>\n",
       "      <td>Air show</td>\n",
       "      <td>Wright Byplane</td>\n",
       "      <td>SC1</td>\n",
       "      <td>NaN</td>\n",
       "      <td>1.0</td>\n",
       "      <td>0.0</td>\n",
       "      <td>1.0</td>\n",
       "      <td>1.0</td>\n",
       "      <td>0.0</td>\n",
       "      <td>0.0</td>\n",
       "      <td>0.0</td>\n",
       "      <td>Eugene Lefebvre was the first pilot to ever be...</td>\n",
       "    </tr>\n",
       "    <tr>\n",
       "      <th>1912-07-12</th>\n",
       "      <td>July 12, 1912</td>\n",
       "      <td>06:30</td>\n",
       "      <td>Atlantic City, New Jersey</td>\n",
       "      <td>Military - U.S. Navy</td>\n",
       "      <td>NaN</td>\n",
       "      <td>Test flight</td>\n",
       "      <td>Dirigible</td>\n",
       "      <td>NaN</td>\n",
       "      <td>NaN</td>\n",
       "      <td>5.0</td>\n",
       "      <td>0.0</td>\n",
       "      <td>5.0</td>\n",
       "      <td>5.0</td>\n",
       "      <td>0.0</td>\n",
       "      <td>5.0</td>\n",
       "      <td>0.0</td>\n",
       "      <td>First U.S. dirigible Akron exploded just offsh...</td>\n",
       "    </tr>\n",
       "    <tr>\n",
       "      <th>1913-08-06</th>\n",
       "      <td>August 06, 1913</td>\n",
       "      <td>NaN</td>\n",
       "      <td>Victoria, British Columbia, Canada</td>\n",
       "      <td>Private</td>\n",
       "      <td>NaN</td>\n",
       "      <td>NaN</td>\n",
       "      <td>Curtiss seaplane</td>\n",
       "      <td>NaN</td>\n",
       "      <td>NaN</td>\n",
       "      <td>1.0</td>\n",
       "      <td>0.0</td>\n",
       "      <td>1.0</td>\n",
       "      <td>1.0</td>\n",
       "      <td>0.0</td>\n",
       "      <td>1.0</td>\n",
       "      <td>0.0</td>\n",
       "      <td>The first fatal airplane accident in Canada oc...</td>\n",
       "    </tr>\n",
       "    <tr>\n",
       "      <th>1913-09-09</th>\n",
       "      <td>September 09, 1913</td>\n",
       "      <td>18:30</td>\n",
       "      <td>Over the North Sea</td>\n",
       "      <td>Military - German Navy</td>\n",
       "      <td>NaN</td>\n",
       "      <td>NaN</td>\n",
       "      <td>Zeppelin L-1 (airship)</td>\n",
       "      <td>NaN</td>\n",
       "      <td>NaN</td>\n",
       "      <td>20.0</td>\n",
       "      <td>NaN</td>\n",
       "      <td>NaN</td>\n",
       "      <td>14.0</td>\n",
       "      <td>NaN</td>\n",
       "      <td>NaN</td>\n",
       "      <td>0.0</td>\n",
       "      <td>The airship flew into a thunderstorm and encou...</td>\n",
       "    </tr>\n",
       "  </tbody>\n",
       "</table>\n",
       "</div>"
      ],
      "text/plain": [
       "                          Date   Time                            Location  \\\n",
       "Datetime                                                                    \n",
       "1908-09-17  September 17, 1908  17:18                 Fort Myer, Virginia   \n",
       "1909-09-07  September 07, 1909    NaN             Juvisy-sur-Orge, France   \n",
       "1912-07-12       July 12, 1912  06:30           Atlantic City, New Jersey   \n",
       "1913-08-06     August 06, 1913    NaN  Victoria, British Columbia, Canada   \n",
       "1913-09-09  September 09, 1913  18:30                  Over the North Sea   \n",
       "\n",
       "                          Operator Flight #          Route  \\\n",
       "Datetime                                                     \n",
       "1908-09-17    Military - U.S. Army      NaN  Demonstration   \n",
       "1909-09-07                     NaN      NaN       Air show   \n",
       "1912-07-12    Military - U.S. Navy      NaN    Test flight   \n",
       "1913-08-06                 Private      NaN            NaN   \n",
       "1913-09-09  Military - German Navy      NaN            NaN   \n",
       "\n",
       "                          AC  Type Registration cn / ln  Total Aboard  \\\n",
       "Datetime                                                                \n",
       "1908-09-17        Wright Flyer III          NaN       1           2.0   \n",
       "1909-09-07          Wright Byplane          SC1     NaN           1.0   \n",
       "1912-07-12               Dirigible          NaN     NaN           5.0   \n",
       "1913-08-06        Curtiss seaplane          NaN     NaN           1.0   \n",
       "1913-09-09  Zeppelin L-1 (airship)          NaN     NaN          20.0   \n",
       "\n",
       "            Passengers Aboard  Crew Aboard  Total Fatalities  \\\n",
       "Datetime                                                       \n",
       "1908-09-17                1.0          1.0               1.0   \n",
       "1909-09-07                0.0          1.0               1.0   \n",
       "1912-07-12                0.0          5.0               5.0   \n",
       "1913-08-06                0.0          1.0               1.0   \n",
       "1913-09-09                NaN          NaN              14.0   \n",
       "\n",
       "            Passengers Fatalities  Crew Fatalities  Ground  \\\n",
       "Datetime                                                     \n",
       "1908-09-17                    1.0              0.0     0.0   \n",
       "1909-09-07                    0.0              0.0     0.0   \n",
       "1912-07-12                    0.0              5.0     0.0   \n",
       "1913-08-06                    0.0              1.0     0.0   \n",
       "1913-09-09                    NaN              NaN     0.0   \n",
       "\n",
       "                                                      Summary  \n",
       "Datetime                                                       \n",
       "1908-09-17  During a demonstration flight, a U.S. Army fly...  \n",
       "1909-09-07  Eugene Lefebvre was the first pilot to ever be...  \n",
       "1912-07-12  First U.S. dirigible Akron exploded just offsh...  \n",
       "1913-08-06  The first fatal airplane accident in Canada oc...  \n",
       "1913-09-09  The airship flew into a thunderstorm and encou...  "
      ]
     },
     "execution_count": 1,
     "metadata": {},
     "output_type": "execute_result"
    }
   ],
   "source": [
    "import pandas as pd\n",
    "\n",
    "crashes = pd.read_csv('crashes.csv',infer_datetime_format=True,parse_dates=True)\n",
    "crashes['Datetime'] = pd.to_datetime(crashes['Date'],errors='coerce')\n",
    "crashes.set_index(['Datetime'],inplace=True)\n",
    "crashes.head()"
   ]
  },
  {
   "cell_type": "markdown",
   "metadata": {},
   "source": [
    "The Wright brothers were involved with the very first aviation fatalities."
   ]
  },
  {
   "cell_type": "code",
   "execution_count": 2,
   "metadata": {},
   "outputs": [
    {
     "data": {
      "text/plain": [
       "Date                                                    September 17, 1908\n",
       "Time                                                                 17:18\n",
       "Location                                               Fort Myer, Virginia\n",
       "Operator                                              Military - U.S. Army\n",
       "Flight #                                                               NaN\n",
       "Route                                                        Demonstration\n",
       "AC  Type                                                  Wright Flyer III\n",
       "Registration                                                           NaN\n",
       "cn / ln                                                                  1\n",
       "Total Aboard                                                             2\n",
       "Passengers Aboard                                                        1\n",
       "Crew Aboard                                                              1\n",
       "Total Fatalities                                                         1\n",
       "Passengers Fatalities                                                    1\n",
       "Crew Fatalities                                                          0\n",
       "Ground                                                                   0\n",
       "Summary                  During a demonstration flight, a U.S. Army fly...\n",
       "Name: 1908-09-17 00:00:00, dtype: object"
      ]
     },
     "execution_count": 2,
     "metadata": {},
     "output_type": "execute_result"
    }
   ],
   "source": [
    "crashes.iloc[0]"
   ]
  },
  {
   "cell_type": "code",
   "execution_count": 3,
   "metadata": {},
   "outputs": [
    {
     "data": {
      "text/plain": [
       "'During a demonstration flight, a U.S. Army flyer flown by Orville Wright nose-dived into the ground from a height of approximately 75 feet, killing Lt. Thomas E. Selfridge, 26, who was a passenger. This was the first recorded airplane fatality in history. One of two propellers separated in flight, tearing loose the wires bracing the rudder and causing the loss of control of the aircraft. Orville Wright suffered broken ribs, pelvis and a leg. Selfridge suffered a crushed skull and died a short time later.'"
      ]
     },
     "execution_count": 3,
     "metadata": {},
     "output_type": "execute_result"
    }
   ],
   "source": [
    "crashes.iloc[0].Summary"
   ]
  },
  {
   "cell_type": "markdown",
   "metadata": {},
   "source": [
    "It's a graphic tale about a horrible crash. Back then, they didn't have safety equipment like they do now. Helmets were softer and injuries were liklier. \n",
    "\n",
    "Now let's look at annual fatalities over time."
   ]
  },
  {
   "cell_type": "code",
   "execution_count": 4,
   "metadata": {},
   "outputs": [
    {
     "data": {
      "image/png": "[encoded data removed]",
      "text/plain": [
       "<Figure size 432x288 with 1 Axes>"
      ]
     },
     "metadata": {
      "needs_background": "light"
     },
     "output_type": "display_data"
    }
   ],
   "source": [
    "crashes['Total Fatalities'].resample('Y').sum().plot()\n",
    "\n",
    "import matplotlib.pyplot as plt\n",
    "plt.title('Annual fatalities')\n",
    "plt.show()"
   ]
  },
  {
   "cell_type": "markdown",
   "metadata": {},
   "source": [
    "Looks like annual fatalities peaked around 1970 and have been declining ever since. Now let's look at annual traffic (the flights that land safely never make the news!). "
   ]
  },
  {
   "cell_type": "code",
   "execution_count": 5,
   "metadata": {},
   "outputs": [
    {
     "data": {
      "text/html": [
       "<div>\n",
       "<style scoped>\n",
       "    .dataframe tbody tr th:only-of-type {\n",
       "        vertical-align: middle;\n",
       "    }\n",
       "\n",
       "    .dataframe tbody tr th {\n",
       "        vertical-align: top;\n",
       "    }\n",
       "\n",
       "    .dataframe thead th {\n",
       "        text-align: right;\n",
       "    }\n",
       "</style>\n",
       "<table border=\"1\" class=\"dataframe\">\n",
       "  <thead>\n",
       "    <tr style=\"text-align: right;\">\n",
       "      <th></th>\n",
       "      <th>Country Name</th>\n",
       "      <th>Count</th>\n",
       "    </tr>\n",
       "    <tr>\n",
       "      <th>Year</th>\n",
       "      <th></th>\n",
       "      <th></th>\n",
       "    </tr>\n",
       "  </thead>\n",
       "  <tbody>\n",
       "    <tr>\n",
       "      <th>1970</th>\n",
       "      <td>Afghanistan</td>\n",
       "      <td>84700</td>\n",
       "    </tr>\n",
       "    <tr>\n",
       "      <th>1970</th>\n",
       "      <td>Argentina</td>\n",
       "      <td>2332000</td>\n",
       "    </tr>\n",
       "    <tr>\n",
       "      <th>1970</th>\n",
       "      <td>Australia</td>\n",
       "      <td>7318700</td>\n",
       "    </tr>\n",
       "    <tr>\n",
       "      <th>1970</th>\n",
       "      <td>Austria</td>\n",
       "      <td>511400</td>\n",
       "    </tr>\n",
       "    <tr>\n",
       "      <th>1970</th>\n",
       "      <td>Belgium</td>\n",
       "      <td>1366200</td>\n",
       "    </tr>\n",
       "    <tr>\n",
       "      <th>...</th>\n",
       "      <td>...</td>\n",
       "      <td>...</td>\n",
       "    </tr>\n",
       "    <tr>\n",
       "      <th>2017</th>\n",
       "      <td>Samoa</td>\n",
       "      <td>81921</td>\n",
       "    </tr>\n",
       "    <tr>\n",
       "      <th>2017</th>\n",
       "      <td>Yemen, Rep.</td>\n",
       "      <td>132571</td>\n",
       "    </tr>\n",
       "    <tr>\n",
       "      <th>2017</th>\n",
       "      <td>South Africa</td>\n",
       "      <td>20821044</td>\n",
       "    </tr>\n",
       "    <tr>\n",
       "      <th>2017</th>\n",
       "      <td>Zambia</td>\n",
       "      <td>154573</td>\n",
       "    </tr>\n",
       "    <tr>\n",
       "      <th>2017</th>\n",
       "      <td>Zimbabwe</td>\n",
       "      <td>282539</td>\n",
       "    </tr>\n",
       "  </tbody>\n",
       "</table>\n",
       "<p>7083 rows × 2 columns</p>\n",
       "</div>"
      ],
      "text/plain": [
       "      Country Name     Count\n",
       "Year                        \n",
       "1970   Afghanistan     84700\n",
       "1970     Argentina   2332000\n",
       "1970     Australia   7318700\n",
       "1970       Austria    511400\n",
       "1970       Belgium   1366200\n",
       "...            ...       ...\n",
       "2017         Samoa     81921\n",
       "2017   Yemen, Rep.    132571\n",
       "2017  South Africa  20821044\n",
       "2017        Zambia    154573\n",
       "2017      Zimbabwe    282539\n",
       "\n",
       "[7083 rows x 2 columns]"
      ]
     },
     "execution_count": 5,
     "metadata": {},
     "output_type": "execute_result"
    }
   ],
   "source": [
    "passengers = pd.read_csv('passengers_count_long.csv',infer_datetime_format=True,parse_dates=True)\n",
    "passengers.head()\n",
    "passengers.set_index('Year')"
   ]
  },
  {
   "cell_type": "markdown",
   "metadata": {},
   "source": [
    "We need to summarize these data. Sum over all countries by year to see total annual passenger traffic. "
   ]
  },
  {
   "cell_type": "code",
   "execution_count": 6,
   "metadata": {},
   "outputs": [
    {
     "data": {
      "text/plain": [
       "<matplotlib.axes._subplots.AxesSubplot at 0x7fe18b254810>"
      ]
     },
     "execution_count": 6,
     "metadata": {},
     "output_type": "execute_result"
    },
    {
     "data": {
      "image/png": "[encoded data removed]",
      "text/plain": [
       "<Figure size 432x288 with 1 Axes>"
      ]
     },
     "metadata": {
      "needs_background": "light"
     },
     "output_type": "display_data"
    }
   ],
   "source": [
    "passengers.groupby(['Year']).sum().plot()"
   ]
  },
  {
   "cell_type": "markdown",
   "metadata": {},
   "source": [
    "Passenger traffic looks like it's growing exponentially! This is during a period of time that fatalities are falling. Let's look at the ratio of annual fatalities to passengers."
   ]
  },
  {
   "cell_type": "code",
   "execution_count": 7,
   "metadata": {},
   "outputs": [
    {
     "name": "stdout",
     "output_type": "stream",
     "text": [
      "Fatalities (113, 1)\n",
      "Passengers (48, 1)\n"
     ]
    }
   ],
   "source": [
    "annual_fatalities = pd.DataFrame(crashes['Total Fatalities'].resample('Y',kind='period').sum())\n",
    "annual_passengers = passengers.groupby(['Year']).sum()\n",
    "\n",
    "print('Fatalities',annual_fatalities.shape)\n",
    "print('Passengers',annual_passengers.shape)"
   ]
  },
  {
   "cell_type": "code",
   "execution_count": 8,
   "metadata": {},
   "outputs": [
    {
     "data": {
      "image/png": "[encoded data removed]",
      "text/plain": [
       "<Figure size 432x288 with 1 Axes>"
      ]
     },
     "metadata": {
      "needs_background": "light"
     },
     "output_type": "display_data"
    }
   ],
   "source": [
    "ratio = annual_fatalities['1970':'2017'].values / annual_passengers * 1e6\n",
    "ratio.plot()\n",
    "plt.title('Annual Fatalities per Million Passengers')\n",
    "plt.show()"
   ]
  },
  {
   "cell_type": "markdown",
   "metadata": {},
   "source": [
    "The number of fatalities per passenger has been declining exponentially as well. I'll bet that if we had data going back further in time, we'd see that aviation has been growing exponentially safer since the very beginning. \n",
    "\n",
    "To summarize, air traffic keeps getting safer every year!"
   ]
  }
 ],
 "metadata": {
  "kernelspec": {
   "display_name": "Python 3",
   "language": "python",
   "name": "python3"
  },
  "language_info": {
   "codemirror_mode": {
    "name": "ipython",
    "version": 3
   },
   "file_extension": ".py",
   "mimetype": "text/x-python",
   "name": "python",
   "nbconvert_exporter": "python",
   "pygments_lexer": "ipython3",
   "version": "3.7.6"
  }
 },
 "nbformat": 4,
 "nbformat_minor": 4
}
