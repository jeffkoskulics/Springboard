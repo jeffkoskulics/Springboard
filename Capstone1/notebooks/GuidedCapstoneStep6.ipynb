{
 "cells": [
  {
   "cell_type": "markdown",
   "metadata": {
    "colab_type": "text",
    "id": "cf5CmXQCZyF1"
   },
   "source": [
    "# Guided Capstone Step 6 Documentation"
   ]
  },
  {
   "cell_type": "markdown",
   "metadata": {
    "colab_type": "text",
    "id": "JbZXsVevfr9M"
   },
   "source": [
    "**The Data Science Method**  \n",
    "\n",
    "\n",
    "1.   Problem Identification \n",
    "\n",
    "2.   Data Wrangling \n",
    "  \n",
    "3.   Exploratory Data Analysis \n",
    " \n",
    "4.   Pre-processing and Training Data Development\n",
    "\n",
    "5.  Modeling\n",
    "\n",
    "6.   **Documentation**\n",
    "  * Review the Results\n",
    "  * Finalize Code \n",
    "  * Finalize Documentation\n",
    "  * Create a Project Report \n",
    "  * Create a Slide Deck for the Executive Audience"
   ]
  },
  {
   "cell_type": "markdown",
   "metadata": {
    "colab_type": "text",
    "id": "D-oGciwnGUYk"
   },
   "source": [
    "In this guided capstone we are going to revisit many of the actions we took in the previous guided capstone steps. This gives you the opportunity to practice the code you wrote to solve the questions in step 4 and 5. "
   ]
  },
  {
   "cell_type": "markdown",
   "metadata": {
    "colab_type": "text",
    "id": "K8xfkAqqZyF2"
   },
   "source": [
    "**<font color='teal'> Start by loading the necessary packages and printing out our current working directory just to confirm we are in the correct project directory. </font>**"
   ]
  },
  {
   "cell_type": "code",
   "execution_count": 1,
   "metadata": {
    "colab": {},
    "colab_type": "code",
    "id": "ry6WPL5eZyF3"
   },
   "outputs": [
    {
     "name": "stdout",
     "output_type": "stream",
     "text": [
      "C:\\Users\\jeffk\\OneDrive\\Springboard\\GuidedCapstone\\notebooks\n"
     ]
    }
   ],
   "source": [
    "import os\n",
    "import pandas as pd\n",
    "import datetime\n",
    "import seaborn as sns\n",
    "import matplotlib.pyplot as plt\n",
    "import numpy as np\n",
    "\n",
    "from sklearn import preprocessing\n",
    "from sklearn.linear_model import LinearRegression\n",
    "from sklearn.pipeline import Pipeline\n",
    "from sklearn.preprocessing import StandardScaler\n",
    "from sklearn.metrics import explained_variance_score,mean_absolute_error\n",
    "from sklearn.model_selection import train_test_split\n",
    "\n",
    "print(os.getcwd())\n",
    "\n",
    "df = pd.read_csv('../data/step3_output.csv')\n",
    "df.drop(df.columns[[0,1]],axis=1, inplace=True)"
   ]
  },
  {
   "cell_type": "markdown",
   "metadata": {
    "colab_type": "text",
    "id": "0HTP9cF2GUYs"
   },
   "source": [
    "## Fit Models with Training Data Set"
   ]
  },
  {
   "cell_type": "markdown",
   "metadata": {
    "colab_type": "text",
    "id": "A2FmSbtCGUYt"
   },
   "source": [
    "**<font color='teal'> Using sklearn fit the model you cose in Guided Capstone 5 on your training dataset. This includes: creating dummy features for states if you need them, scaling the data,and creating train and test splits before fitting the chosen model.Also, remember to generate a model performance score(MAE, or explained variance) based on the testing hold-out data set.</font>**"
   ]
  },
  {
   "cell_type": "markdown",
   "metadata": {
    "colab_type": "text",
    "id": "ReRSy1yFGUYu"
   },
   "source": [
    "#### Best Model "
   ]
  },
  {
   "cell_type": "code",
   "execution_count": 2,
   "metadata": {
    "colab": {},
    "colab_type": "code",
    "id": "YRhPGbqPGUYv"
   },
   "outputs": [
    {
     "name": "stdout",
     "output_type": "stream",
     "text": [
      "['Name', 'summit_elev', 'base_elev', 'state', 'kmeans', 'AdultWeekend', 'AdultWeekday', 'projectedDaysOpen', 'daysOpenLastYear']\n",
      "Interecpt: [ 64.78497482  58.75614681 120.35228394 115.01194259] \n",
      "\n",
      "fastQuads : 9.54598716225511\n",
      "SkiableTerrain_ac : -6.999846104542714\n",
      "Runs : 5.875464636402548\n",
      "vertical_drop : 5.8059504928367955\n",
      "quad : 4.261084055336437\n",
      "surface : -3.9938456871508277\n",
      "fastEight : -2.6320360423210643\n",
      "total_chairs : 2.485090970678938\n",
      "trams : -2.3839846769137063\n",
      "triple : 2.0345120670185244\n",
      "double : 1.6922794940467314\n",
      "averageSnowfall : 1.5590821629389287\n",
      "fastSixes : 1.2863384862771543\n",
      "LongestRun_mi : 1.2030652141837908\n",
      "Snow Making_ac : -1.1448588251607152\n",
      "NightSkiing_ac : 0.7491056540364434\n",
      "yearsOpen : -0.4939674604864326\n",
      "TerrainParks : -0.04919959501044707\n"
     ]
    }
   ],
   "source": [
    "outputColumns = ['AdultWeekend','AdultWeekday','projectedDaysOpen', 'daysOpenLastYear',]\n",
    "unusedColumns = ['Name', 'summit_elev','base_elev', 'state', 'kmeans' ]\n",
    "print(unusedColumns + outputColumns)\n",
    "\n",
    "Input = df.drop( unusedColumns + outputColumns , axis=1)\n",
    "Output = df[outputColumns]\n",
    "\n",
    "X_train, X_test, y_train, y_test = train_test_split(Input, Output, test_size=0.25, random_state=25)\n",
    "\n",
    "steps = [\n",
    "    ('scale', StandardScaler()),\n",
    "    ('estimator', LinearRegression())\n",
    "]\n",
    "model3 = Pipeline(steps)\n",
    "model3.fit(X_train, y_train)\n",
    "y_pred = model3.predict(X_test)\n",
    "\n",
    "print('Interecpt:' , model3.named_steps['estimator'].intercept_, '\\n')\n",
    "coefficients = dict(zip(X_test.columns.tolist(), model3.named_steps['estimator'].coef_[0]))\n",
    "for key, value in sorted(coefficients.items(),key=lambda item: abs(item[1]), reverse = True):\n",
    "    print ('%s : %s' % (key, coefficients[key]))\n",
    "\n",
    "model_3_scores = (explained_variance_score(y_test,y_pred),mean_absolute_error(y_test,y_pred, multioutput='raw_values')[0])"
   ]
  },
  {
   "cell_type": "markdown",
   "metadata": {
    "colab_type": "text",
    "id": "GGizyeLZGUYz"
   },
   "source": [
    "## Review the results "
   ]
  },
  {
   "cell_type": "markdown",
   "metadata": {
    "colab_type": "text",
    "id": "4Lhu-qisGUY0"
   },
   "source": [
    "**<font color='teal'> Now, let's predict the Big Mountain Weekend price with our model in order to provide a recommendation to our managers on how to price the `AdultWeekend` lift ticket. First we need to find the row for Big Mountain resort in our data using string contains or string matching.</font>**"
   ]
  },
  {
   "cell_type": "code",
   "execution_count": 106,
   "metadata": {
    "colab": {},
    "colab_type": "code",
    "id": "YXnx_IuEGUY1"
   },
   "outputs": [],
   "source": [
    "whitefish_index = df[df.Name == 'Whitefish Mountain Resort'].index.tolist()\n",
    "BigMountain_features = Input.iloc[whitefish_index]\n",
    "BigMountain_target = Output.iloc[whitefish_index]   "
   ]
  },
  {
   "cell_type": "markdown",
   "metadata": {
    "colab_type": "text",
    "id": "83-jO9hPGUY4"
   },
   "source": [
    "**<font color='teal'> Prepare the Big Mountain resort data row as you did in the model fitting stage.</font>**"
   ]
  },
  {
   "cell_type": "code",
   "execution_count": 4,
   "metadata": {
    "colab": {},
    "colab_type": "code",
    "id": "oWH_q9YOGUY5"
   },
   "outputs": [],
   "source": [
    "model3_output = model3.predict(BigMountain_features)"
   ]
  },
  {
   "cell_type": "markdown",
   "metadata": {
    "colab_type": "text",
    "id": "2BCFqZYBGUY9"
   },
   "source": [
    "**<font color='teal'> Predict the Big Mountain resort `Adult Weekend` price and print it out.</font>** This is our expected price to present to management. Based on our model given the characteristics of the resort in comparison to other ski resorts and their unique characteristics."
   ]
  },
  {
   "cell_type": "code",
   "execution_count": 5,
   "metadata": {
    "colab": {},
    "colab_type": "code",
    "id": "XebWxxTMGUY-"
   },
   "outputs": [
    {
     "name": "stdout",
     "output_type": "stream",
     "text": [
      "AdultWeekend predicted 89.52036895173944\n"
     ]
    }
   ],
   "source": [
    "print('AdultWeekend predicted', model3_output[0][0])"
   ]
  },
  {
   "cell_type": "markdown",
   "metadata": {
    "colab_type": "text",
    "id": "_5BvguMLGUZB"
   },
   "source": [
    "**<font color='teal'> Print the Big Mountain resort actual `Adult Weekend` price.</font>**"
   ]
  },
  {
   "cell_type": "code",
   "execution_count": 6,
   "metadata": {
    "colab": {},
    "colab_type": "code",
    "id": "WyxTHtL2GUZC"
   },
   "outputs": [
    {
     "name": "stdout",
     "output_type": "stream",
     "text": [
      "AdultWeekend actual:  81.0\n"
     ]
    }
   ],
   "source": [
    "print('AdultWeekend actual: ' , BigMountain_target.iat[0,0])"
   ]
  },
  {
   "cell_type": "markdown",
   "metadata": {
    "colab_type": "text",
    "id": "O0Yli8MXGUZH"
   },
   "source": [
    "**<font color='teal'> As part of reviewing the results it is an important step to generate figures to visualize the data story. We can use the clusters we added to our data frame to create scatter plots for visualizing the Adult Weekend values compared to other characteristics. Run the example below to get you started and build two or three more figures to include in your data story telling.</font>**"
   ]
  },
  {
   "cell_type": "code",
   "execution_count": 7,
   "metadata": {
    "colab": {},
    "colab_type": "code",
    "id": "xWtr873fGUZI"
   },
   "outputs": [
    {
     "data": {
      "image/png": "[encoded data removed]",
      "text/plain": [
       "<Figure size 432x288 with 1 Axes>"
      ]
     },
     "metadata": {
      "needs_background": "light"
     },
     "output_type": "display_data"
    },
    {
     "data": {
      "text/plain": [
       "<Figure size 432x288 with 0 Axes>"
      ]
     },
     "metadata": {},
     "output_type": "display_data"
    }
   ],
   "source": [
    "plt.scatter(df['summit_elev'], df['vertical_drop'], c=df['kmeans'], s=50, cmap='viridis', label ='clusters')\n",
    "#plt.scatter(df['summit_elev'], df['vertical_drop'], c='black', s=100)\n",
    "plt.xlabel('summit_elev')\n",
    "plt.ylabel('vertical_drop')\n",
    "plt.title('summit_elev by vertical_drop by cluster')\n",
    "plt.show()\n",
    "plt.savefig('../figures/fig1.png',bbox_inches='tight')"
   ]
  },
  {
   "cell_type": "markdown",
   "metadata": {
    "colab_type": "text",
    "id": "giLKE2WMGUZh"
   },
   "source": [
    "## Finalize Code"
   ]
  },
  {
   "cell_type": "markdown",
   "metadata": {
    "colab_type": "text",
    "id": "pps_ASHoGUZi"
   },
   "source": [
    " Making sure our code is well organized and easy to follow is an important step. This is the time where you need to review the notebooks and python scripts you have created and clean them n=up so they are easy to follow and succinct in nature. Addtionally, we will also save our final model out a callable object using pickle for future use in a data pipeline.**<font color='teal'> Run the example code below to save out your callable model, notice we save it in the models folder we created in our previous guided capstone.</font>** "
   ]
  },
  {
   "cell_type": "code",
   "execution_count": 8,
   "metadata": {
    "colab": {},
    "colab_type": "code",
    "id": "X_h0tkt_GUZj"
   },
   "outputs": [
    {
     "data": {
      "text/plain": [
       "['../models/regression_model_adultweekend.joblib']"
      ]
     },
     "execution_count": 8,
     "metadata": {},
     "output_type": "execute_result"
    }
   ],
   "source": [
    "import pickle\n",
    "s = pickle.dumps(model3)\n",
    "from joblib import dump, load\n",
    "dump(model3, '../models/regression_model_adultweekend.joblib') "
   ]
  },
  {
   "cell_type": "markdown",
   "metadata": {
    "colab_type": "text",
    "id": "MTVrVlerGUZn"
   },
   "source": [
    "## Finalize Documentation"
   ]
  },
  {
   "cell_type": "markdown",
   "metadata": {
    "colab_type": "text",
    "id": "thEMyu-DGUZo"
   },
   "source": [
    "For model documentation we want to save the model performance metrics as well as the features included in the final model. You could also save the model perfomance metrics and coefficients fo the other models you tried in case you want to refer to them later. **<font color='teal'> Create a dataframe containing the coefficients and the model performance metrics and save it out as a csv file then upload it to your github repository.</font>** "
   ]
  },
  {
   "cell_type": "markdown",
   "metadata": {},
   "source": [
    "Assemble a dataframe with the necessary information to reproduce the model output by hand calculations. It will contain  the following rows: \n",
    "1. BigMountain_features\n",
    "2. scale mean\n",
    "3. BigMountain_features - scale mean\n",
    "4. scale standard deviation\n",
    "5. standardized features\n",
    "6. model coefficients\n"
   ]
  },
  {
   "cell_type": "code",
   "execution_count": 148,
   "metadata": {
    "colab": {},
    "colab_type": "code",
    "id": "278tnHLlGUZp"
   },
   "outputs": [
    {
     "name": "stdout",
     "output_type": "stream",
     "text": [
      "4\n",
      "              feature   BgMtn      mean  BgMtn-mean     stdev  BgMtnFeat  \\\n",
      "0       vertical_drop  2353.0  1251.571    1101.429   964.458      1.142   \n",
      "1               trams     0.0     0.174      -0.174     0.567     -0.307   \n",
      "2           fastEight     0.0     0.004      -0.004     0.063     -0.064   \n",
      "3           fastSixes     0.0     0.202      -0.202     0.673     -0.301   \n",
      "4           fastQuads     3.0     1.073       1.927     2.236      0.862   \n",
      "5                quad     2.0     0.879       1.121     1.279      0.876   \n",
      "6              triple     6.0     1.510       4.490     1.693      2.652   \n",
      "7              double     0.0     1.891      -1.891     1.681     -1.125   \n",
      "8             surface     3.0     2.656       0.344     2.129      0.162   \n",
      "9        total_chairs    14.0     7.105       6.895     3.371      2.045   \n",
      "10               Runs   105.0    49.966      55.034    48.784      1.128   \n",
      "11       TerrainParks     4.0     2.356       1.644     2.043      0.805   \n",
      "12      LongestRun_mi     3.3     1.470       1.830     1.180      1.551   \n",
      "13  SkiableTerrain_ac  3000.0   695.516    2304.484  1146.332      2.010   \n",
      "14     Snow Making_ac   600.0   177.513     422.487   255.508      1.654   \n",
      "15          yearsOpen    72.0    57.946      14.054    17.029      0.825   \n",
      "16    averageSnowfall   333.0   189.100     143.900   134.237      1.072   \n",
      "17     NightSkiing_ac   600.0    61.045     538.955   102.319      5.267   \n",
      "\n",
      "    $/feat  BgMtnValue  \n",
      "0    5.806       6.631  \n",
      "1   -2.384       0.731  \n",
      "2   -2.632       0.168  \n",
      "3    1.286      -0.387  \n",
      "4    9.546       8.228  \n",
      "5    4.261       3.735  \n",
      "6    2.035       5.396  \n",
      "7    1.692      -1.903  \n",
      "8   -3.994      -0.646  \n",
      "9    2.485       5.082  \n",
      "10   5.875       6.628  \n",
      "11  -0.049      -0.040  \n",
      "12   1.203       1.866  \n",
      "13  -7.000     -14.072  \n",
      "14  -1.145      -1.893  \n",
      "15  -0.494      -0.408  \n",
      "16   1.559       1.671  \n",
      "17   0.749       3.946  \n",
      "\n",
      "Model intercept (lift ticket price of a hypothetical resort having  all features equal the mean): $64.78\n",
      "Added value of all Big Mountain features $24.74\n",
      "Market lift ticket value for all Big Mountain features $89.52\n"
     ]
    }
   ],
   "source": [
    "row_names = BigMountain_features.columns.tolist()\n",
    "BigMountain_data = BigMountain_features.iloc[0].tolist()\n",
    "col_names = ['value','BigMountain']\n",
    "d = {'value':row_names, 'BigMountain':BigMountain_data}\n",
    "\n",
    "print(len(model3.named_steps['estimator'].coef_))\n",
    "\n",
    "manual_model = pd.DataFrame()\n",
    "manual_model['feature'] = row_names\n",
    "manual_model['BgMtn'] = BigMountain_data\n",
    "manual_model['mean'] = model3.named_steps['scale'].mean_\n",
    "manual_model['BgMtn-mean'] = manual_model['BgMtn'] - manual_model['mean']\n",
    "manual_model['stdev'] = pow(model3.named_steps['scale'].var_,0.5)\n",
    "manual_model['BgMtnFeat'] = manual_model['BgMtn-mean'] / manual_model['stdev']\n",
    "manual_model['$/feat'] = model3.named_steps['estimator'].coef_[0,:]\n",
    "manual_model['BgMtnValue'] = manual_model['BgMtnFeat'] * manual_model['$/feat']\n",
    "print(manual_model.round(3))\n",
    "print('\\nModel intercept (lift ticket price of a hypothetical resort having all features equal to the mean): $%s' % round(model3.named_steps['estimator'].intercept_[0],2) )\n",
    "print('Added value of all Big Mountain features $%s' % round(manual_model['BgMtnValue'].sum(),2))\n",
    "print('Market lift ticket value for all Big Mountain features $%s' % round(manual_model['BgMtnValue'].sum() + model3.named_steps['estimator'].intercept_[0],2))"
   ]
  },
  {
   "cell_type": "code",
   "execution_count": 156,
   "metadata": {
    "colab": {},
    "colab_type": "code",
    "id": "4CEOoBLFGUZr"
   },
   "outputs": [
    {
     "name": "stdout",
     "output_type": "stream",
     "text": [
      "Features sorted by $/feature:\n",
      "\n",
      "              feature  BgMtnFeat  $/feat  BgMtnValue\n",
      "4           fastQuads       0.86    9.55        8.23\n",
      "10               Runs       1.13    5.88        6.63\n",
      "0       vertical_drop       1.14    5.81        6.63\n",
      "5                quad       0.88    4.26        3.73\n",
      "9        total_chairs       2.05    2.49        5.08\n",
      "6              triple       2.65    2.03        5.40\n",
      "7              double      -1.12    1.69       -1.90\n",
      "16    averageSnowfall       1.07    1.56        1.67\n",
      "3           fastSixes      -0.30    1.29       -0.39\n",
      "12      LongestRun_mi       1.55    1.20        1.87\n",
      "17     NightSkiing_ac       5.27    0.75        3.95\n",
      "11       TerrainParks       0.80   -0.05       -0.04\n",
      "15          yearsOpen       0.83   -0.49       -0.41\n",
      "14     Snow Making_ac       1.65   -1.14       -1.89\n",
      "1               trams      -0.31   -2.38        0.73\n",
      "2           fastEight      -0.06   -2.63        0.17\n",
      "8             surface       0.16   -3.99       -0.65\n",
      "13  SkiableTerrain_ac       2.01   -7.00      -14.07\n"
     ]
    }
   ],
   "source": [
    "print('Features sorted by $/feature:\\n')\n",
    "print(manual_model[['feature','BgMtnFeat','$/feat','BgMtnValue']].sort_values('$/feat', ascending=False).round(2))"
   ]
  },
  {
   "cell_type": "code",
   "execution_count": null,
   "metadata": {},
   "outputs": [],
   "source": []
  }
 ],
 "metadata": {
  "colab": {
   "collapsed_sections": [
    "RtEspslPZyGY",
    "s0DokMkAZyGc",
    "2iuitnKcZyHS",
    "iAWQxougZyHW",
    "ThMTimlBZyHZ",
    "QwZ-LkjXZyHt",
    "srtXEA3N4-Y9",
    "ChVreJupZyIA",
    "zDgSSsq1ZyID",
    "I3GYKWfi5Llg",
    "pmMvrhbI-viE",
    "ZXDPkW3UZyIX",
    "Dnc_vHQLZyId",
    "daJxuJ-dZyIg",
    "mAQ-oHiPZyIn",
    "hnGOsp3mZyIp"
   ],
   "name": "GuidedCapstoneStep6.ipynb",
   "provenance": [],
   "toc_visible": true
  },
  "kernelspec": {
   "display_name": "Python 3",
   "language": "python",
   "name": "python3"
  },
  "language_info": {
   "codemirror_mode": {
    "name": "ipython",
    "version": 3
   },
   "file_extension": ".py",
   "mimetype": "text/x-python",
   "name": "python",
   "nbconvert_exporter": "python",
   "pygments_lexer": "ipython3",
   "version": "3.7.6"
  },
  "toc": {
   "base_numbering": "0",
   "nav_menu": {},
   "number_sections": true,
   "sideBar": true,
   "skip_h1_title": false,
   "title_cell": "Table of Contents",
   "title_sidebar": "Contents",
   "toc_cell": true,
   "toc_position": {
    "height": "calc(100% - 180px)",
    "left": "10px",
    "top": "150px",
    "width": "288px"
   },
   "toc_section_display": true,
   "toc_window_display": true
  }
 },
 "nbformat": 4,
 "nbformat_minor": 1
}
