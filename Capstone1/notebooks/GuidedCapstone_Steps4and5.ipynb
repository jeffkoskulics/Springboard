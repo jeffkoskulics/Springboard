{
 "cells": [
  {
   "cell_type": "markdown",
   "metadata": {
    "colab_type": "text",
    "id": "cf5CmXQCZyF1"
   },
   "source": [
    "# Guided Capstone Step 4 - Pre-processing and Training Data Development"
   ]
  },
  {
   "cell_type": "markdown",
   "metadata": {
    "colab_type": "text",
    "id": "JbZXsVevfr9M"
   },
   "source": [
    "### **The Data Science Method**  \n",
    "\n",
    "\n",
    "1.   Problem Identification \n",
    "\n",
    "2.   Data Wrangling \n",
    "  \n",
    "3.   Exploratory Data Analysis \n",
    " \n",
    "4.   **Pre-processing and Training Data Development**\n",
    "\n",
    "5.  Modeling\n",
    "  * Fit Models with Training Data Set\n",
    "  * Review Model Outcomes — Iterate over additional models as needed.\n",
    "  * Identify the Final Model\n",
    "\n",
    "6.   Documentation\n",
    "  * Review the Results\n",
    "  * Present and share your findings - storytelling\n",
    "  * Finalize Code \n",
    "  * Finalize Documentation"
   ]
  },
  {
   "cell_type": "markdown",
   "metadata": {
    "colab_type": "text",
    "id": "GyZga0DpAnq7"
   },
   "source": [
    "In this step of the guided capstone, you'll revisit some of the steps you completed to solve questions in step 4. Revisiting these steps will help you get additional practice completing this kind of work."
   ]
  },
  {
   "cell_type": "markdown",
   "metadata": {
    "colab_type": "text",
    "id": "K8xfkAqqZyF2"
   },
   "source": [
    "**<font color='teal'> Start by loading the necessary packages, as you've done in the previous steps. Print out your current working directory to confirm that you are in the correct project directory. </font>**"
   ]
  },
  {
   "cell_type": "code",
   "execution_count": 1,
   "metadata": {
    "colab": {},
    "colab_type": "code",
    "id": "ry6WPL5eZyF3"
   },
   "outputs": [
    {
     "name": "stdout",
     "output_type": "stream",
     "text": [
      "C:\\Users\\jeffk\\OneDrive\\Springboard\\GuidedCapstone\\notebooks\n"
     ]
    }
   ],
   "source": [
    "import os\n",
    "import pandas as pd\n",
    "import datetime\n",
    "import seaborn as sns\n",
    "import matplotlib.pyplot as plt\n",
    "import numpy as np\n",
    "\n",
    "print(os.getcwd())"
   ]
  },
  {
   "cell_type": "markdown",
   "metadata": {
    "colab_type": "text",
    "id": "630T-ogRZyF8"
   },
   "source": [
    "**<font color='teal'>  Load the csv file you created in step 3. Remember, it should be saved inside your data subfolder. Print the first five rows.</font>**"
   ]
  },
  {
   "cell_type": "code",
   "execution_count": 2,
   "metadata": {},
   "outputs": [
    {
     "data": {
      "text/html": [
       "<div>\n",
       "<style scoped>\n",
       "    .dataframe tbody tr th:only-of-type {\n",
       "        vertical-align: middle;\n",
       "    }\n",
       "\n",
       "    .dataframe tbody tr th {\n",
       "        vertical-align: top;\n",
       "    }\n",
       "\n",
       "    .dataframe thead th {\n",
       "        text-align: right;\n",
       "    }\n",
       "</style>\n",
       "<table border=\"1\" class=\"dataframe\">\n",
       "  <thead>\n",
       "    <tr style=\"text-align: right;\">\n",
       "      <th></th>\n",
       "      <th>Name</th>\n",
       "      <th>state</th>\n",
       "      <th>summit_elev</th>\n",
       "      <th>vertical_drop</th>\n",
       "      <th>base_elev</th>\n",
       "      <th>trams</th>\n",
       "      <th>fastEight</th>\n",
       "      <th>fastSixes</th>\n",
       "      <th>fastQuads</th>\n",
       "      <th>quad</th>\n",
       "      <th>...</th>\n",
       "      <th>SkiableTerrain_ac</th>\n",
       "      <th>Snow Making_ac</th>\n",
       "      <th>daysOpenLastYear</th>\n",
       "      <th>yearsOpen</th>\n",
       "      <th>averageSnowfall</th>\n",
       "      <th>AdultWeekday</th>\n",
       "      <th>AdultWeekend</th>\n",
       "      <th>projectedDaysOpen</th>\n",
       "      <th>NightSkiing_ac</th>\n",
       "      <th>kmeans</th>\n",
       "    </tr>\n",
       "  </thead>\n",
       "  <tbody>\n",
       "    <tr>\n",
       "      <th>0</th>\n",
       "      <td>Alyeska Resort</td>\n",
       "      <td>Alaska</td>\n",
       "      <td>3939</td>\n",
       "      <td>2500</td>\n",
       "      <td>250</td>\n",
       "      <td>1</td>\n",
       "      <td>0.0</td>\n",
       "      <td>0</td>\n",
       "      <td>2</td>\n",
       "      <td>2</td>\n",
       "      <td>...</td>\n",
       "      <td>1610.0</td>\n",
       "      <td>113.0</td>\n",
       "      <td>150.0</td>\n",
       "      <td>60.0</td>\n",
       "      <td>669.0</td>\n",
       "      <td>65.0</td>\n",
       "      <td>85.0</td>\n",
       "      <td>150.0</td>\n",
       "      <td>550.0</td>\n",
       "      <td>1</td>\n",
       "    </tr>\n",
       "    <tr>\n",
       "      <th>1</th>\n",
       "      <td>Eaglecrest Ski Area</td>\n",
       "      <td>Alaska</td>\n",
       "      <td>2600</td>\n",
       "      <td>1540</td>\n",
       "      <td>1200</td>\n",
       "      <td>0</td>\n",
       "      <td>0.0</td>\n",
       "      <td>0</td>\n",
       "      <td>0</td>\n",
       "      <td>0</td>\n",
       "      <td>...</td>\n",
       "      <td>640.0</td>\n",
       "      <td>60.0</td>\n",
       "      <td>45.0</td>\n",
       "      <td>44.0</td>\n",
       "      <td>350.0</td>\n",
       "      <td>47.0</td>\n",
       "      <td>53.0</td>\n",
       "      <td>90.0</td>\n",
       "      <td>0.0</td>\n",
       "      <td>1</td>\n",
       "    </tr>\n",
       "    <tr>\n",
       "      <th>2</th>\n",
       "      <td>Hilltop Ski Area</td>\n",
       "      <td>Alaska</td>\n",
       "      <td>2090</td>\n",
       "      <td>294</td>\n",
       "      <td>1796</td>\n",
       "      <td>0</td>\n",
       "      <td>0.0</td>\n",
       "      <td>0</td>\n",
       "      <td>0</td>\n",
       "      <td>0</td>\n",
       "      <td>...</td>\n",
       "      <td>30.0</td>\n",
       "      <td>30.0</td>\n",
       "      <td>150.0</td>\n",
       "      <td>36.0</td>\n",
       "      <td>69.0</td>\n",
       "      <td>30.0</td>\n",
       "      <td>34.0</td>\n",
       "      <td>152.0</td>\n",
       "      <td>30.0</td>\n",
       "      <td>1</td>\n",
       "    </tr>\n",
       "    <tr>\n",
       "      <th>3</th>\n",
       "      <td>Arizona Snowbowl</td>\n",
       "      <td>Arizona</td>\n",
       "      <td>11500</td>\n",
       "      <td>2300</td>\n",
       "      <td>9200</td>\n",
       "      <td>0</td>\n",
       "      <td>0.0</td>\n",
       "      <td>1</td>\n",
       "      <td>0</td>\n",
       "      <td>2</td>\n",
       "      <td>...</td>\n",
       "      <td>777.0</td>\n",
       "      <td>104.0</td>\n",
       "      <td>122.0</td>\n",
       "      <td>81.0</td>\n",
       "      <td>260.0</td>\n",
       "      <td>89.0</td>\n",
       "      <td>89.0</td>\n",
       "      <td>122.0</td>\n",
       "      <td>0.0</td>\n",
       "      <td>0</td>\n",
       "    </tr>\n",
       "    <tr>\n",
       "      <th>4</th>\n",
       "      <td>Sunrise Park Resort</td>\n",
       "      <td>Arizona</td>\n",
       "      <td>11100</td>\n",
       "      <td>1800</td>\n",
       "      <td>9200</td>\n",
       "      <td>0</td>\n",
       "      <td>0.0</td>\n",
       "      <td>0</td>\n",
       "      <td>1</td>\n",
       "      <td>2</td>\n",
       "      <td>...</td>\n",
       "      <td>800.0</td>\n",
       "      <td>80.0</td>\n",
       "      <td>115.0</td>\n",
       "      <td>49.0</td>\n",
       "      <td>250.0</td>\n",
       "      <td>74.0</td>\n",
       "      <td>78.0</td>\n",
       "      <td>104.0</td>\n",
       "      <td>80.0</td>\n",
       "      <td>0</td>\n",
       "    </tr>\n",
       "  </tbody>\n",
       "</table>\n",
       "<p>5 rows × 27 columns</p>\n",
       "</div>"
      ],
      "text/plain": [
       "                  Name    state  summit_elev  vertical_drop  base_elev  trams  \\\n",
       "0       Alyeska Resort   Alaska         3939           2500        250      1   \n",
       "1  Eaglecrest Ski Area   Alaska         2600           1540       1200      0   \n",
       "2     Hilltop Ski Area   Alaska         2090            294       1796      0   \n",
       "3     Arizona Snowbowl  Arizona        11500           2300       9200      0   \n",
       "4  Sunrise Park Resort  Arizona        11100           1800       9200      0   \n",
       "\n",
       "   fastEight  fastSixes  fastQuads  quad  ...  SkiableTerrain_ac  \\\n",
       "0        0.0          0          2     2  ...             1610.0   \n",
       "1        0.0          0          0     0  ...              640.0   \n",
       "2        0.0          0          0     0  ...               30.0   \n",
       "3        0.0          1          0     2  ...              777.0   \n",
       "4        0.0          0          1     2  ...              800.0   \n",
       "\n",
       "   Snow Making_ac  daysOpenLastYear  yearsOpen  averageSnowfall  AdultWeekday  \\\n",
       "0           113.0             150.0       60.0            669.0          65.0   \n",
       "1            60.0              45.0       44.0            350.0          47.0   \n",
       "2            30.0             150.0       36.0             69.0          30.0   \n",
       "3           104.0             122.0       81.0            260.0          89.0   \n",
       "4            80.0             115.0       49.0            250.0          74.0   \n",
       "\n",
       "   AdultWeekend  projectedDaysOpen  NightSkiing_ac  kmeans  \n",
       "0          85.0              150.0           550.0       1  \n",
       "1          53.0               90.0             0.0       1  \n",
       "2          34.0              152.0            30.0       1  \n",
       "3          89.0              122.0             0.0       0  \n",
       "4          78.0              104.0            80.0       0  \n",
       "\n",
       "[5 rows x 27 columns]"
      ]
     },
     "execution_count": 2,
     "metadata": {},
     "output_type": "execute_result"
    }
   ],
   "source": [
    "df1 = pd.read_csv('../data/step3_output.csv')\n",
    "df1.drop(df1.columns[[0,1]],axis=1, inplace=True)\n",
    "df1.head(5)"
   ]
  },
  {
   "cell_type": "markdown",
   "metadata": {
    "colab_type": "text",
    "id": "zkBHf9smZyGB"
   },
   "source": [
    "## Create dummy features for categorical variables"
   ]
  },
  {
   "cell_type": "markdown",
   "metadata": {
    "colab_type": "text",
    "id": "vWKHm0NhAnrJ"
   },
   "source": [
    "**<font color='teal'> Create dummy variables for `State`. Add the dummies back to the dataframe and remove the original column for `State`. </font>**"
   ]
  },
  {
   "cell_type": "code",
   "execution_count": 3,
   "metadata": {
    "colab": {},
    "colab_type": "code",
    "id": "lZqWk8ltZyGZ"
   },
   "outputs": [],
   "source": [
    "states = pd.get_dummies(df1.state)\n",
    "\n",
    "df = pd.concat([df1, states], axis=1)\n",
    "del(df['state'])"
   ]
  },
  {
   "cell_type": "markdown",
   "metadata": {},
   "source": [
    "Create dummy variables for the kmeans categories, and remove the original column for kmeans too:"
   ]
  },
  {
   "cell_type": "code",
   "execution_count": 4,
   "metadata": {},
   "outputs": [],
   "source": [
    "kmeans_dummies = pd.get_dummies(df1.kmeans, prefix='kmeans')\n",
    "df = pd.concat([df, kmeans_dummies], axis=1)\n",
    "del(df['kmeans'])"
   ]
  },
  {
   "cell_type": "markdown",
   "metadata": {
    "colab_type": "text",
    "id": "HnDVhE1-ZyGF"
   },
   "source": [
    "## Select features for model input and output\n",
    "\n",
    "**<font color='teal'> You should  hold out your response variable(s) so that you can have their true values available for model performance review. Let's set `AdultWeekend` to the y variable as your response for scaling and modeling. Later, you will go back and consider the `AdultWeekday`, `dayOpenLastYear`, and `projectedDaysOpen`. For now leave, them in the development dataframe. </font>**"
   ]
  },
  {
   "cell_type": "code",
   "execution_count": 5,
   "metadata": {},
   "outputs": [],
   "source": [
    "outputColumns = ['AdultWeekend','AdultWeekday','projectedDaysOpen', 'daysOpenLastYear'] #\n",
    "holdOutColumns = ['kmeans_0','kmeans_1','kmeans_2']\n",
    "from sklearn import preprocessing\n",
    "scaler = preprocessing.StandardScaler()\n",
    "\n",
    "Input = df.drop(['Name'] + outputColumns + holdOutColumns,axis=1)\n",
    "Output = df[outputColumns]"
   ]
  },
  {
   "cell_type": "markdown",
   "metadata": {
    "colab_type": "text",
    "id": "GAT8h4_mZyGK"
   },
   "source": [
    "## Split into training and testing datasets"
   ]
  },
  {
   "cell_type": "markdown",
   "metadata": {
    "colab_type": "text",
    "id": "6rdS8EGeAnrW"
   },
   "source": [
    "**<font color='teal'> Using sklearn model selectionm import train_test_split, and create a 75/25 split with the y = `AdultWeekend`. You will start by using the adult weekend ticket price as your response variable for modeling.</font>**"
   ]
  },
  {
   "cell_type": "code",
   "execution_count": 6,
   "metadata": {
    "colab": {},
    "colab_type": "code",
    "id": "BSkPut0gguds"
   },
   "outputs": [],
   "source": [
    "from sklearn.model_selection import train_test_split\n",
    "\n",
    "X_train, X_test, y_train, y_test = train_test_split(Input, Output, test_size=0.25, random_state=25)"
   ]
  },
  {
   "cell_type": "markdown",
   "metadata": {
    "colab_type": "text",
    "id": "UayqbwkWAnra"
   },
   "source": [
    "Here, you'll start the actual modeling work. First let's fit a multiple linear regression model to predict the `AdultWeekend` price."
   ]
  },
  {
   "cell_type": "markdown",
   "metadata": {},
   "source": [
    "# Guided Capstone Step 5 - Modeling"
   ]
  },
  {
   "cell_type": "markdown",
   "metadata": {},
   "source": [
    "You've cleaned and prepared the datasets, so now it's time to get into the most exciting part of this process: modeling! In this exercise, you will build three different models and compare each model's performance. In the end, you will choose the best model for proving insights to Big Mountain management.  \n",
    "\n",
    "1.   Problem Identification \n",
    "\n",
    "2.   Data Wrangling \n",
    "  \n",
    "3.   Exploratory Data Analysis \n",
    " \n",
    "4.   Pre-processing and Training Data Development\n",
    "\n",
    "5.   **Modeling**\n",
    "  * Fit Models with Training Data Set\n",
    "  * Review Model Outcomes — Iterate over additional models as needed.\n",
    "  * Identify the Final Model\n",
    "\n",
    "6.   Documentation\n",
    "  * Review the Results\n",
    "  * Present and share your findings - storytelling\n",
    "  * Finalize Code \n",
    "  * Finalize Documentation"
   ]
  },
  {
   "cell_type": "markdown",
   "metadata": {
    "colab_type": "text",
    "id": "D_wfsP_-Anra"
   },
   "source": [
    "## Fit Models with Training Data Set"
   ]
  },
  {
   "cell_type": "markdown",
   "metadata": {
    "colab_type": "text",
    "id": "CoI8S5SwAnrc"
   },
   "source": [
    "**<font color='teal'> Using sklearn, fit the model on your training dataset.</font>**"
   ]
  },
  {
   "cell_type": "markdown",
   "metadata": {
    "colab_type": "text",
    "id": "P_GFr8sRAnrd"
   },
   "source": [
    "#### Model 1"
   ]
  },
  {
   "cell_type": "code",
   "execution_count": 7,
   "metadata": {
    "scrolled": true
   },
   "outputs": [],
   "source": [
    "from sklearn.linear_model import LinearRegression\n",
    "from sklearn.pipeline import Pipeline\n",
    "from sklearn.preprocessing import StandardScaler\n",
    "from sklearn.metrics import explained_variance_score,mean_absolute_error\n",
    "\n",
    "steps = [\n",
    "    ('scale', StandardScaler()),\n",
    "    ('estimator', LinearRegression())\n",
    "]\n",
    "model1 = Pipeline(steps)\n",
    "model1.fit(X_train, y_train)\n",
    "y_pred = model1.predict(X_test)\n",
    "model_1_scores = (explained_variance_score(y_test,y_pred,multioutput='raw_values')[0],\n",
    "                  mean_absolute_error(y_test,y_pred,multioutput='raw_values')[0])"
   ]
  },
  {
   "cell_type": "markdown",
   "metadata": {
    "colab_type": "text",
    "id": "1fHqz9-WAnrg"
   },
   "source": [
    "**<font color='teal'> Predict on the testing dataset and score the model performance with the y_test set and the y-pred values. The explained variance is a measure of the variation explained by the model. This is also known as the R-squared value. </font>**"
   ]
  },
  {
   "cell_type": "code",
   "execution_count": 8,
   "metadata": {
    "colab": {},
    "colab_type": "code",
    "id": "nIo01lFEAnrh"
   },
   "outputs": [
    {
     "name": "stdout",
     "output_type": "stream",
     "text": [
      "Explained variance: -0.14101586063132543\n",
      "Mean absolute error: 12.862671425450909\n"
     ]
    }
   ],
   "source": [
    "print('Explained variance:', explained_variance_score(y_test,y_pred,multioutput='raw_values')[0])\n",
    "print('Mean absolute error:', mean_absolute_error(y_test,y_pred,multioutput='raw_values')[0])"
   ]
  },
  {
   "cell_type": "markdown",
   "metadata": {
    "colab_type": "text",
    "id": "N4YS0WE2Anrk"
   },
   "source": [
    "## Review Model Outcomes — Iterate over additional models as needed."
   ]
  },
  {
   "cell_type": "markdown",
   "metadata": {
    "colab_type": "text",
    "id": "NWJcOuSdAnrr"
   },
   "source": [
    "**<font color='teal'> Print the intercept value from the linear model. </font>**"
   ]
  },
  {
   "cell_type": "code",
   "execution_count": 9,
   "metadata": {
    "colab": {},
    "colab_type": "code",
    "id": "3WzWejn6Anrt"
   },
   "outputs": [
    {
     "name": "stdout",
     "output_type": "stream",
     "text": [
      "Intercepts: [ 64.7870849   58.75851779 120.35504663 115.01393484]\n"
     ]
    }
   ],
   "source": [
    "print('Intercepts:', model1.named_steps['estimator'].intercept_)"
   ]
  },
  {
   "cell_type": "markdown",
   "metadata": {
    "colab_type": "text",
    "id": "edajrenAAnrv"
   },
   "source": [
    "**<font color='teal'> The intercept is the mean `AdultWeekend` price for all the resorts given the other characteristics. The addition or subtraction of each of the coefficient values in the regression are numeric adjustments applied to the intercept to provide a particular observation's value for the `AdultWeekend` resulting value. Also, because you took the time to scale your x values in the training data, you can compare each of the coefficients for the features to determine the feature's importance. Print the coefficient values from the linear model and sort in descending order to identify the top ten most important features.</font>** \n",
    "\n",
    "Hint: make sure to review the absolute value of the coefficients, because the adjustment may be positive or negative, but what you are looking for is the magnitude of impact on your response variable."
   ]
  },
  {
   "cell_type": "code",
   "execution_count": 10,
   "metadata": {
    "colab": {},
    "colab_type": "code",
    "id": "FEKc_lmZAnrw"
   },
   "outputs": [
    {
     "name": "stdout",
     "output_type": "stream",
     "text": [
      "New York : -48012287610947.74\n",
      "Michigan : -43424400741852.91\n",
      "Colorado : -40299001548002.586\n",
      "California : -36808480178562.375\n",
      "Vermont : -35545572410632.95\n",
      "Montana : -34223975916521.31\n",
      "New Hampshire : -34223975916512.92\n",
      "Pennsylvania : -34223975916511.945\n",
      "Utah : -32836605209116.637\n",
      "Wisconsin : -32836605209111.59\n",
      "Idaho : -31374736020798.016\n",
      "Minnesota : -29827416644426.74\n",
      "Massachusetts : -29827416644424.61\n",
      "Oregon : -28180575075334.53\n",
      "Washington : -28180575075334.418\n",
      "Maine : -28180575075330.6\n",
      "Wyoming : -22418089187248.285\n",
      "New Mexico : -20092734235665.957\n",
      "North Carolina : -20092734235662.46\n",
      "Connecticut : -20092734235661.266\n",
      "Virginia : -20092734235660.996\n",
      "Alaska : -17436585672463.738\n",
      "Ohio : -17436585672463.084\n",
      "Nevada : -17436585672461.832\n",
      "West Virginia : -17436585672461.6\n",
      "South Dakota : -14266056755520.793\n",
      "Illinois : -14266056755519.344\n",
      "Iowa : -14266056755519.295\n",
      "Indiana : -14266056755518.893\n",
      "Missouri : -14266056755518.836\n",
      "Arizona : -10108191499009.533\n",
      "Tennessee : -10108191499008.291\n",
      "Maryland : -10108191499008.088\n",
      "Rhode Island : -10108191499007.629\n",
      "New Jersey : -10108191499007.605\n",
      "base_elev : 14.096253191488431\n",
      "vertical_drop : 9.223693177172464\n",
      "fastQuads : 8.285183615884618\n",
      "Runs : 6.877485247529366\n",
      "summit_elev : -6.68269267996693\n",
      "SkiableTerrain_ac : -4.247322382075487\n",
      "surface : -3.893335236203757\n",
      "quad : 3.283024189630672\n",
      "averageSnowfall : 3.079469128191095\n",
      "fastEight : -2.488355604206419\n",
      "triple : 2.2365740482632885\n",
      "NightSkiing_ac : 2.2196196089072426\n",
      "Snow Making_ac : -2.106920898293601\n",
      "trams : -1.787012192685455\n",
      "double : 1.7814049233474671\n",
      "total_chairs : 1.4450216555893887\n",
      "fastSixes : -0.944098298831122\n",
      "TerrainParks : -0.6133691542693107\n",
      "yearsOpen : -0.15037707376049103\n",
      "LongestRun_mi : 0.14955327437843424\n"
     ]
    }
   ],
   "source": [
    "coefficients = dict(zip(Input.columns.tolist(),model1.named_steps['estimator'].coef_[0]))\n",
    "for key, value in sorted(coefficients.items(),key=lambda item: abs(item[1]), reverse = True):\n",
    "    print ('%s : %s' % (key, coefficients[key]))"
   ]
  },
  {
   "cell_type": "markdown",
   "metadata": {
    "colab_type": "text",
    "id": "BpdALMoAAnry"
   },
   "source": [
    "**<font color='teal'>You should see that the top ten important features are different states. However, the state is not something the managers at the Big Mountain Resort can do anything about. Given that you care more about actionable traits associated with ticket pricing, rebuild the model without the state features and compare the results. </font>**"
   ]
  },
  {
   "cell_type": "markdown",
   "metadata": {},
   "source": [
    "## Predict target for Big Mountain Resort"
   ]
  },
  {
   "cell_type": "code",
   "execution_count": 11,
   "metadata": {},
   "outputs": [
    {
     "name": "stdout",
     "output_type": "stream",
     "text": [
      "Target and model predictions:\n",
      "AdultWeekend 81.0 78.27145990422143\n"
     ]
    }
   ],
   "source": [
    "#Big Mountain prediction\n",
    "whitefish_index = df[df.Name == 'Whitefish Mountain Resort'].index.tolist()\n",
    "BigMountain_features = Input.iloc[whitefish_index]\n",
    "BigMountain_target = Output.iloc[whitefish_index]\n",
    "\n",
    "model1_output = model1.predict(BigMountain_features)\n",
    "\n",
    "print('Target and model predictions:')\n",
    "\n",
    "for i in range(1):\n",
    "    print(outputColumns[i],BigMountain_target.iat[0,i], model1_output[0][i])"
   ]
  },
  {
   "cell_type": "markdown",
   "metadata": {},
   "source": [
    "## Rebuild model without states as features"
   ]
  },
  {
   "cell_type": "code",
   "execution_count": 12,
   "metadata": {},
   "outputs": [],
   "source": [
    "Input = df.drop(['Name'] + outputColumns + holdOutColumns + list(states.columns),axis=1)\n",
    "Output = df[outputColumns]\n",
    "\n",
    "X_train, X_test, y_train, y_test = train_test_split(Input, Output, test_size=0.25, random_state=25)"
   ]
  },
  {
   "cell_type": "markdown",
   "metadata": {
    "colab_type": "text",
    "id": "-mHYA1BzAnrz"
   },
   "source": [
    "#### Model 2"
   ]
  },
  {
   "cell_type": "code",
   "execution_count": 13,
   "metadata": {
    "colab": {},
    "colab_type": "code",
    "id": "Pz1YXAdiAnr0"
   },
   "outputs": [
    {
     "name": "stdout",
     "output_type": "stream",
     "text": [
      "Interecpt: [ 64.78497482  58.75614681 120.35228394 115.01194259] \n",
      "\n",
      "fastQuads : 9.517971938680525\n",
      "SkiableTerrain_ac : -7.029828413813089\n",
      "vertical_drop : 6.811453393251539\n",
      "Runs : 5.999660980756762\n",
      "quad : 4.2415126331871935\n",
      "surface : -3.995889036564575\n",
      "summit_elev : -3.8996185107099146\n",
      "base_elev : 3.1580675320397438\n",
      "fastEight : -2.689795122089791\n",
      "total_chairs : 2.483202515964191\n",
      "trams : -2.3757363779418412\n",
      "triple : 2.024769059565143\n",
      "double : 1.6830036521171388\n",
      "averageSnowfall : 1.6079740907341744\n",
      "fastSixes : 1.273546651427947\n",
      "LongestRun_mi : 1.2058243678006395\n",
      "Snow Making_ac : -1.1604993473157963\n",
      "NightSkiing_ac : 0.7655607239933941\n",
      "yearsOpen : -0.5114449613632013\n",
      "TerrainParks : -0.06891459581766324\n"
     ]
    }
   ],
   "source": [
    "steps = [\n",
    "    ('scale', StandardScaler()),\n",
    "    ('estimator', LinearRegression())\n",
    "]\n",
    "model2 = Pipeline(steps)\n",
    "model2.fit(X_train, y_train)\n",
    "y_pred = model2.predict(X_test)\n",
    "\n",
    "print('Interecpt:' , model2.named_steps['estimator'].intercept_, '\\n')\n",
    "coefficients = dict(zip(X_test.columns.tolist(), model2.named_steps['estimator'].coef_[0]))\n",
    "for key, value in sorted(coefficients.items(),key=lambda item: abs(item[1]), reverse = True):\n",
    "    print ('%s : %s' % (key, coefficients[key]))\n",
    "\n",
    "model_2_scores = (explained_variance_score(y_test,y_pred,multioutput='raw_values'),mean_absolute_error(y_test,y_pred,multioutput='raw_values')[0])"
   ]
  },
  {
   "cell_type": "markdown",
   "metadata": {
    "colab_type": "text",
    "id": "JWjQLr3LAnr6"
   },
   "source": [
    "**<font color='teal'> When reviewing your new model coefficients, note that `summit_elev` is now in the number two spot. From a managerial perspective, this is also difficult to change and highly correlated with `base_elev` and `vertical_drop`.  This time rebuild the model without the state features and without the `summit_elev` and without `base_elev`and compare the results. </font>**"
   ]
  },
  {
   "cell_type": "code",
   "execution_count": 14,
   "metadata": {},
   "outputs": [
    {
     "name": "stdout",
     "output_type": "stream",
     "text": [
      "Target and model predictions:\n",
      "AdultWeekend 81.0 89.55711002724041\n"
     ]
    }
   ],
   "source": [
    "#Big Mountain prediction\n",
    "whitefish_index = df[df.Name == 'Whitefish Mountain Resort'].index.tolist()\n",
    "BigMountain_features = Input.iloc[whitefish_index]\n",
    "BigMountain_target = Output.iloc[whitefish_index]\n",
    "\n",
    "model2_output = model2.predict(BigMountain_features)\n",
    "\n",
    "print('Target and model predictions:')\n",
    "\n",
    "for i in range(1):\n",
    "    print(outputColumns[i],BigMountain_target.iat[0,i], model2_output[0][i])"
   ]
  },
  {
   "cell_type": "markdown",
   "metadata": {
    "colab_type": "text",
    "id": "RXqvcn93Anr7"
   },
   "source": [
    "#### Model 3"
   ]
  },
  {
   "cell_type": "code",
   "execution_count": 15,
   "metadata": {
    "colab": {},
    "colab_type": "code",
    "id": "6eugnDNNAnr8"
   },
   "outputs": [
    {
     "name": "stdout",
     "output_type": "stream",
     "text": [
      "Interecpt: [ 64.78497482  58.75614681 120.35228394 115.01194259] \n",
      "\n",
      "fastQuads : 9.54598716225511\n",
      "SkiableTerrain_ac : -6.999846104542714\n",
      "Runs : 5.875464636402548\n",
      "vertical_drop : 5.8059504928367955\n",
      "quad : 4.261084055336437\n",
      "surface : -3.9938456871508277\n",
      "fastEight : -2.6320360423210643\n",
      "total_chairs : 2.485090970678938\n",
      "trams : -2.3839846769137063\n",
      "triple : 2.0345120670185244\n",
      "double : 1.6922794940467314\n",
      "averageSnowfall : 1.5590821629389287\n",
      "fastSixes : 1.2863384862771543\n",
      "LongestRun_mi : 1.2030652141837908\n",
      "Snow Making_ac : -1.1448588251607152\n",
      "NightSkiing_ac : 0.7491056540364434\n",
      "yearsOpen : -0.4939674604864326\n",
      "TerrainParks : -0.04919959501044707\n"
     ]
    }
   ],
   "source": [
    "from sklearn import preprocessing\n",
    "scaler = preprocessing.StandardScaler()\n",
    "\n",
    "Input = df.drop(['Name', 'summit_elev','base_elev'] + outputColumns + holdOutColumns + list(states.columns),axis=1)\n",
    "Output = df[outputColumns]\n",
    "\n",
    "X_train, X_test, y_train, y_test = train_test_split(Input, Output, test_size=0.25, random_state=25)\n",
    "\n",
    "steps = [\n",
    "    ('scale', StandardScaler()),\n",
    "    ('estimator', LinearRegression())\n",
    "]\n",
    "model3 = Pipeline(steps)\n",
    "model3.fit(X_train, y_train)\n",
    "y_pred = model3.predict(X_test)\n",
    "\n",
    "print('Interecpt:' , model3.named_steps['estimator'].intercept_, '\\n')\n",
    "coefficients = dict(zip(X_test.columns.tolist(), model3.named_steps['estimator'].coef_[0]))\n",
    "for key, value in sorted(coefficients.items(),key=lambda item: abs(item[1]), reverse = True):\n",
    "    print ('%s : %s' % (key, coefficients[key]))\n",
    "\n",
    "model_3_scores = (explained_variance_score(y_test,y_pred,multioutput='raw_values'),mean_absolute_error(y_test,y_pred,multioutput='raw_values')[0])"
   ]
  },
  {
   "cell_type": "code",
   "execution_count": 16,
   "metadata": {},
   "outputs": [
    {
     "name": "stdout",
     "output_type": "stream",
     "text": [
      "Target and model predictions:\n",
      "AdultWeekend 81.0 89.52036895173944\n"
     ]
    }
   ],
   "source": [
    "#Big Mountain prediction\n",
    "\n",
    "BigMountain_features = Input.iloc[whitefish_index]\n",
    "BigMountain_target = Output.iloc[whitefish_index]\n",
    "\n",
    "model3_output = model3.predict(BigMountain_features)\n",
    "\n",
    "print('Target and model predictions:')\n",
    "\n",
    "for i in range(1):\n",
    "    print(outputColumns[i],BigMountain_target.iat[0,i], model3_output[0][i])"
   ]
  },
  {
   "cell_type": "code",
   "execution_count": 17,
   "metadata": {
    "colab": {},
    "colab_type": "code",
    "id": "reXlf0HAAnsG"
   },
   "outputs": [
    {
     "name": "stdout",
     "output_type": "stream",
     "text": [
      "Model 1: (-0.14101586063132543, 12.862671425450909)\n",
      "Model 2: (array([-0.98223029, -0.45997456, -0.48061408, -0.65739792]), 14.012379882004051)\n",
      "Model 3: (array([-0.96073626, -0.35003002, -0.20552946, -0.66815738]), 13.955354904778455)\n"
     ]
    }
   ],
   "source": [
    "print('Model 1:', model_1_scores)\n",
    "print('Model 2:', model_2_scores)\n",
    "print('Model 3:', model_3_scores)"
   ]
  },
  {
   "cell_type": "markdown",
   "metadata": {
    "colab_type": "text",
    "id": "MJvQMns6AnsI"
   },
   "source": [
    "## Identify the Final Model"
   ]
  },
  {
   "cell_type": "markdown",
   "metadata": {
    "colab_type": "text",
    "id": "LD7-3iLcAnsK"
   },
   "source": [
    "**<font color='teal'> Review the model performances in the table below and choose the best model for proving insights to Big Mountain management about what features are driving ski resort lift ticket prices. Type your choice in the final markdown cell. You will explain your selection during the next step of the guided casptone. </font>**"
   ]
  },
  {
   "cell_type": "markdown",
   "metadata": {
    "colab_type": "text",
    "id": "La5S9fRPAnsK"
   },
   "source": [
    "| Model | Explained Variance| Mean Absolute Error|Features Dropped|\n",
    "| --- | --- | --- | --- |\n",
    "| Model 1. | -0.397 | 12.86 | |\n",
    "| Model 2. | -0.645 | 14.01 |'state'|\n",
    "| Model 3. | -0.546 | 13.95 |'state','summit_elev','base_elev'|"
   ]
  },
  {
   "cell_type": "markdown",
   "metadata": {
    "colab_type": "text",
    "id": "T2c-zn7TAnsL"
   },
   "source": [
    "# Model 1 is selected for having lowest mean absolute error."
   ]
  },
  {
   "cell_type": "code",
   "execution_count": 18,
   "metadata": {},
   "outputs": [
    {
     "data": {
      "text/plain": [
       "1.0"
      ]
     },
     "execution_count": 18,
     "metadata": {},
     "output_type": "execute_result"
    }
   ],
   "source": [
    "y_true_1D = [1, 2, 3, 4]\n",
    "y_pred_1D = [2, 3, 4, 5]\n",
    "mean_absolute_error(y_true_1D,y_pred_1D)"
   ]
  },
  {
   "cell_type": "code",
   "execution_count": 19,
   "metadata": {},
   "outputs": [
    {
     "data": {
      "text/plain": [
       "array([1.  , 3.25])"
      ]
     },
     "execution_count": 19,
     "metadata": {},
     "output_type": "execute_result"
    }
   ],
   "source": [
    "y_true_2D = [[1,2], [2,2], [3,2], [4,2]]\n",
    "y_pred_2D = [[2,12], [3,3], [4,3], [5,3]]\n",
    "mean_absolute_error(y_true_2D, y_pred_2D, multioutput='raw_values')"
   ]
  },
  {
   "cell_type": "code",
   "execution_count": 20,
   "metadata": {},
   "outputs": [
    {
     "data": {
      "text/plain": [
       "array([-1.09932085, -0.30893969, -0.05513178, -0.2840776 , -0.46387252,\n",
       "        0.81409101, -0.30927686, -1.01161941,  1.1567092 ,  0.25282839,\n",
       "       -0.74361256, -0.65746141, -0.37816525, -0.39044416, -0.57796154,\n",
       "       -0.02435003, -0.9781918 , -0.23457102])"
      ]
     },
     "execution_count": 20,
     "metadata": {},
     "output_type": "execute_result"
    }
   ],
   "source": [
    "scale = StandardScaler().fit(Input)\n",
    "scale.transform(Input)[131,:]\n",
    "#Input.iloc[131,:]"
   ]
  },
  {
   "cell_type": "code",
   "execution_count": null,
   "metadata": {},
   "outputs": [],
   "source": []
  }
 ],
 "metadata": {
  "colab": {
   "collapsed_sections": [
    "RtEspslPZyGY",
    "s0DokMkAZyGc",
    "2iuitnKcZyHS",
    "iAWQxougZyHW",
    "ThMTimlBZyHZ",
    "QwZ-LkjXZyHt",
    "srtXEA3N4-Y9",
    "ChVreJupZyIA",
    "zDgSSsq1ZyID",
    "I3GYKWfi5Llg",
    "pmMvrhbI-viE",
    "ZXDPkW3UZyIX",
    "Dnc_vHQLZyId",
    "daJxuJ-dZyIg",
    "mAQ-oHiPZyIn",
    "hnGOsp3mZyIp"
   ],
   "name": "GuidedCapstoneStep5.ipynb",
   "provenance": []
  },
  "kernelspec": {
   "display_name": "Python 3",
   "language": "python",
   "name": "python3"
  },
  "language_info": {
   "codemirror_mode": {
    "name": "ipython",
    "version": 3
   },
   "file_extension": ".py",
   "mimetype": "text/x-python",
   "name": "python",
   "nbconvert_exporter": "python",
   "pygments_lexer": "ipython3",
   "version": "3.7.6"
  },
  "toc": {
   "base_numbering": "0",
   "nav_menu": {},
   "number_sections": true,
   "sideBar": true,
   "skip_h1_title": false,
   "title_cell": "Table of Contents",
   "title_sidebar": "Contents",
   "toc_cell": true,
   "toc_position": {
    "height": "calc(100% - 180px)",
    "left": "10px",
    "top": "150px",
    "width": "288px"
   },
   "toc_section_display": true,
   "toc_window_display": true
  }
 },
 "nbformat": 4,
 "nbformat_minor": 1
}
