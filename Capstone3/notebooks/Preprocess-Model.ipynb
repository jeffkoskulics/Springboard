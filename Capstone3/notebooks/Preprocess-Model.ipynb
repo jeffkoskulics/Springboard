{
 "cells": [
  {
   "cell_type": "markdown",
   "metadata": {},
   "source": [
    "# Feature Extraction\n",
    "In this step, we convert the raw text into numerical features for analysis. We have to convert both the keywords and text data. Let's start with the keywords"
   ]
  },
  {
   "cell_type": "code",
   "execution_count": 1,
   "metadata": {},
   "outputs": [
    {
     "data": {
      "text/html": [
       "<div>\n",
       "<style scoped>\n",
       "    .dataframe tbody tr th:only-of-type {\n",
       "        vertical-align: middle;\n",
       "    }\n",
       "\n",
       "    .dataframe tbody tr th {\n",
       "        vertical-align: top;\n",
       "    }\n",
       "\n",
       "    .dataframe thead th {\n",
       "        text-align: right;\n",
       "    }\n",
       "</style>\n",
       "<table border=\"1\" class=\"dataframe\">\n",
       "  <thead>\n",
       "    <tr style=\"text-align: right;\">\n",
       "      <th></th>\n",
       "      <th>id</th>\n",
       "      <th>keyword</th>\n",
       "      <th>location</th>\n",
       "      <th>text</th>\n",
       "      <th>target</th>\n",
       "    </tr>\n",
       "  </thead>\n",
       "  <tbody>\n",
       "    <tr>\n",
       "      <th>3408</th>\n",
       "      <td>4878</td>\n",
       "      <td>explode</td>\n",
       "      <td>Spring Grove, IL</td>\n",
       "      <td>If Schwarber ran into me going that fast I wou...</td>\n",
       "      <td>0</td>\n",
       "    </tr>\n",
       "    <tr>\n",
       "      <th>1668</th>\n",
       "      <td>2410</td>\n",
       "      <td>collide</td>\n",
       "      <td></td>\n",
       "      <td>But even if the stars and moon collide I never...</td>\n",
       "      <td>0</td>\n",
       "    </tr>\n",
       "    <tr>\n",
       "      <th>4992</th>\n",
       "      <td>7122</td>\n",
       "      <td>military</td>\n",
       "      <td></td>\n",
       "      <td>Online infantryman experimental military train...</td>\n",
       "      <td>0</td>\n",
       "    </tr>\n",
       "    <tr>\n",
       "      <th>3206</th>\n",
       "      <td>4600</td>\n",
       "      <td>emergency%20services</td>\n",
       "      <td></td>\n",
       "      <td>@Glenstannard @EssexWeather do you know where ...</td>\n",
       "      <td>1</td>\n",
       "    </tr>\n",
       "    <tr>\n",
       "      <th>2761</th>\n",
       "      <td>3967</td>\n",
       "      <td>devastation</td>\n",
       "      <td>Washington, DC</td>\n",
       "      <td>70 Years After Atomic Bombs Japan Still Strugg...</td>\n",
       "      <td>1</td>\n",
       "    </tr>\n",
       "  </tbody>\n",
       "</table>\n",
       "</div>"
      ],
      "text/plain": [
       "        id               keyword          location  \\\n",
       "3408  4878               explode  Spring Grove, IL   \n",
       "1668  2410               collide                     \n",
       "4992  7122              military                     \n",
       "3206  4600  emergency%20services                     \n",
       "2761  3967           devastation    Washington, DC   \n",
       "\n",
       "                                                   text  target  \n",
       "3408  If Schwarber ran into me going that fast I wou...       0  \n",
       "1668  But even if the stars and moon collide I never...       0  \n",
       "4992  Online infantryman experimental military train...       0  \n",
       "3206  @Glenstannard @EssexWeather do you know where ...       1  \n",
       "2761  70 Years After Atomic Bombs Japan Still Strugg...       1  "
      ]
     },
     "execution_count": 1,
     "metadata": {},
     "output_type": "execute_result"
    }
   ],
   "source": [
    "import pandas as pd\n",
    "import numpy as np\n",
    "\n",
    "train = pd.read_csv('../downloads/train.csv')\n",
    "test = pd.read_csv('../downloads/train.csv')\n",
    "\n",
    "train.keyword.fillna('',inplace=True)\n",
    "test.keyword.fillna('',inplace=True)\n",
    "train.location.fillna('',inplace=True)\n",
    "test.location.fillna('',inplace=True)\n",
    "\n",
    "train.sample(5)"
   ]
  },
  {
   "cell_type": "code",
   "execution_count": 2,
   "metadata": {},
   "outputs": [
    {
     "name": "stderr",
     "output_type": "stream",
     "text": [
      "/opt/anaconda3/lib/python3.7/site-packages/sklearn/feature_extraction/text.py:484: UserWarning: The parameter 'token_pattern' will not be used since 'tokenizer' is not None'\n",
      "  warnings.warn(\"The parameter 'token_pattern' will not be used\"\n"
     ]
    }
   ],
   "source": [
    "from nltk import TweetTokenizer\n",
    "tt = TweetTokenizer()\n",
    "\n",
    "from sklearn.feature_extraction.text import CountVectorizer\n",
    "cv = CountVectorizer(tokenizer=tt.tokenize)\n",
    "cv.fit(train['text'])\n",
    "\n",
    "# Vectorize keywords and tweets\n",
    "# First the training set\n",
    "train_keywords = pd.DataFrame(pd.get_dummies(train.keyword))\n",
    "train_tweets = pd.DataFrame(cv.transform(train['text']).toarray(),columns=cv.get_feature_names())\n",
    "X_train = pd.concat([train_keywords,train_tweets],axis=1)\n",
    "y_train = train.target\n",
    "\n",
    "test_keywords = pd.DataFrame(pd.get_dummies(test.keyword))\n",
    "test_tweets = pd.DataFrame(cv.transform(test['text']).toarray(),columns=cv.get_feature_names())\n",
    "X_test = pd.concat([test_keywords,test_tweets],axis=1)\n",
    "y_test = test.target"
   ]
  },
  {
   "cell_type": "markdown",
   "metadata": {},
   "source": [
    "# Modelling\n",
    "## Ridge Classifier\n",
    "Let's start out with a very simple model: a ridge classifier. How well do we do for classification?"
   ]
  },
  {
   "cell_type": "code",
   "execution_count": 3,
   "metadata": {},
   "outputs": [
    {
     "data": {
      "text/plain": [
       "RidgeClassifier()"
      ]
     },
     "execution_count": 3,
     "metadata": {},
     "output_type": "execute_result"
    }
   ],
   "source": [
    "from sklearn.linear_model import RidgeClassifier\n",
    "\n",
    "model = RidgeClassifier()\n",
    "model.fit(X_train,y_train)"
   ]
  },
  {
   "cell_type": "code",
   "execution_count": 4,
   "metadata": {},
   "outputs": [
    {
     "name": "stdout",
     "output_type": "stream",
     "text": [
      "              precision    recall  f1-score   support\n",
      "\n",
      "           0       1.00      1.00      1.00      4342\n",
      "           1       1.00      0.99      1.00      3271\n",
      "\n",
      "    accuracy                           1.00      7613\n",
      "   macro avg       1.00      1.00      1.00      7613\n",
      "weighted avg       1.00      1.00      1.00      7613\n",
      "\n"
     ]
    }
   ],
   "source": [
    "y_pred = model.predict(X_test)\n",
    "\n",
    "from sklearn.metrics import classification_report\n",
    "\n",
    "print(classification_report(y_test,y_pred))"
   ]
  },
  {
   "cell_type": "markdown",
   "metadata": {},
   "source": [
    "Ahh, nice! Nearly perfect precision and recall! I wasn't expecting that using default parameters. Looks like the data contain useful information for classifying tweets. It makes sense, of course, the data were labeled by human readers who looked at the same text information. \n",
    "\n",
    "### Dropping the keyword data\n",
    "\n",
    "Let's see if the results look quite as good if we drop the keyword data."
   ]
  },
  {
   "cell_type": "code",
   "execution_count": 5,
   "metadata": {},
   "outputs": [
    {
     "name": "stdout",
     "output_type": "stream",
     "text": [
      "              precision    recall  f1-score   support\n",
      "\n",
      "           0       0.99      1.00      1.00      4342\n",
      "           1       1.00      0.99      0.99      3271\n",
      "\n",
      "    accuracy                           1.00      7613\n",
      "   macro avg       1.00      1.00      1.00      7613\n",
      "weighted avg       1.00      1.00      1.00      7613\n",
      "\n"
     ]
    }
   ],
   "source": [
    "model2 = RidgeClassifier()\n",
    "model2.fit(cv.transform(train['text']).toarray(),y_train)\n",
    "y_pred = model2.predict(cv.transform(test['text']).toarray())\n",
    "print(classification_report(y_test,y_pred))"
   ]
  },
  {
   "cell_type": "markdown",
   "metadata": {},
   "source": [
    "The numbers look a little worse, but keywords clearly don't have a drastic effect on the classification performance.\n",
    "\n",
    "# Unsupervised methods\n",
    "\n",
    "Now we can ask the question, why does it work so well? Here we can look to the patterns in the data using unsupervised methods. \n",
    "\n",
    "Can we turn the problem around and predict the keyword from the tweet text? If we did a topic analysis, would the topics map to keywords?"
   ]
  },
  {
   "cell_type": "code",
   "execution_count": null,
   "metadata": {},
   "outputs": [],
   "source": []
  }
 ],
 "metadata": {
  "kernelspec": {
   "display_name": "Python 3",
   "language": "python",
   "name": "python3"
  },
  "language_info": {
   "codemirror_mode": {
    "name": "ipython",
    "version": 3
   },
   "file_extension": ".py",
   "mimetype": "text/x-python",
   "name": "python",
   "nbconvert_exporter": "python",
   "pygments_lexer": "ipython3",
   "version": "3.7.6"
  }
 },
 "nbformat": 4,
 "nbformat_minor": 4
}
