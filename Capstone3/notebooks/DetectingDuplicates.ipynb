{
 "cells": [
  {
   "cell_type": "markdown",
   "metadata": {},
   "source": [
    "# Detecting Duplicates\n",
    "In the previous EDA step, we found signs of numerous duplicated tweets. Some of the text strings are exactly identical. These can be dropped using Pandas `drop_duplicates` method. Others are more difficult. Some contain different hashtags and handles. Others have slightly different punctuation.\n",
    "\n",
    "In this notebook, we'll detect duplicates by measuring the similarity between strings. The basic approach is to clean the text (removing punctuation, stopwords, hashtags and handles), vectorize each string using a word count vectorizer, and measure the cosine angle between vectors. Pairs of sentences with the smallest cosine angle are good candidates for being duplicates."
   ]
  },
  {
   "cell_type": "code",
   "execution_count": 1,
   "metadata": {},
   "outputs": [],
   "source": [
    "import pandas as pd\n",
    "import string\n",
    "from sklearn.feature_extraction.text import CountVectorizer\n",
    "from sklearn.metrics.pairwise import cosine_similarity\n",
    "from nltk.corpus import stopwords\n",
    "\n",
    "import matplotlib.pyplot as plt\n",
    "import numpy as np\n",
    "\n",
    "stopwords = stopwords.words('english')"
   ]
  },
  {
   "cell_type": "markdown",
   "metadata": {},
   "source": [
    "Restore the session variables from the DataWranglingEDA step."
   ]
  },
  {
   "cell_type": "code",
   "execution_count": 2,
   "metadata": {},
   "outputs": [],
   "source": [
    "import dill\n",
    "dill.load_session('../session/DataWrangling_EDA.db')"
   ]
  },
  {
   "cell_type": "markdown",
   "metadata": {},
   "source": [
    "Clean the text to remove punctuation and stopwords"
   ]
  },
  {
   "cell_type": "code",
   "execution_count": 3,
   "metadata": {},
   "outputs": [],
   "source": [
    "def clean_string(text):\n",
    "    text = ''.join([character for character in text if character not in string.punctuation])\n",
    "    text = text.lower()\n",
    "    text = ' '.join([word for word in text.split() if word not in stopwords])\n",
    "    return text"
   ]
  },
  {
   "cell_type": "markdown",
   "metadata": {},
   "source": [
    "Prepare a CountVectorizer using the vocabulary of the training set. `vectors` is a vectorized version of the text of each tweet."
   ]
  },
  {
   "cell_type": "code",
   "execution_count": 4,
   "metadata": {},
   "outputs": [],
   "source": [
    "vectorizer = CountVectorizer()\n",
    "vectors = vectorizer.fit_transform(list(map(clean_string, train.text))).toarray()"
   ]
  },
  {
   "cell_type": "markdown",
   "metadata": {},
   "source": [
    "Let's compare all of the training tweet vectors to the one already identified as having duplicates by computing the cosine similarity to this string."
   ]
  },
  {
   "cell_type": "code",
   "execution_count": 5,
   "metadata": {},
   "outputs": [],
   "source": [
    "test_string = 'Twelve feared killed in Pakistani air ambulance helicopter crash'\n",
    "test_vec = vectorizer.transform(list(map(clean_string,pd.Series(test_string)))).toarray()\n",
    "csim = cosine_similarity(test_vec, vectors)"
   ]
  },
  {
   "cell_type": "code",
   "execution_count": 6,
   "metadata": {},
   "outputs": [
    {
     "data": {
      "text/plain": [
       "[<matplotlib.lines.Line2D at 0x7fa86ba80a10>]"
      ]
     },
     "execution_count": 6,
     "metadata": {},
     "output_type": "execute_result"
    },
    {
     "data": {
      "image/png": "[encoded data removed]",
      "text/plain": [
       "<Figure size 432x288 with 1 Axes>"
      ]
     },
     "metadata": {
      "needs_background": "light"
     },
     "output_type": "display_data"
    }
   ],
   "source": [
    "hits = np.amax(csim,0)\n",
    "plt.plot(hits)"
   ]
  },
  {
   "cell_type": "markdown",
   "metadata": {},
   "source": [
    "This graph shows that there are a lot of tweets that have non-zero similarity, but the threshold remains low. Let's look at some examples where the threshold is above 0.5."
   ]
  },
  {
   "cell_type": "code",
   "execution_count": 7,
   "metadata": {},
   "outputs": [
    {
     "data": {
      "text/plain": [
       "172     Twelve feared killed in Pakistani air ambulan...\n",
       "174    Twelve feared killed in Pakistani air ambulanc...\n",
       "177    Twelve feared killed in Pakistani air ambulanc...\n",
       "182     Twelve feared killed in Pakistani air ambulan...\n",
       "187    Pakistan air ambulance helicopter crash kills ...\n",
       "203    Twelve feared killed in Pakistani air ambulanc...\n",
       "Name: text, dtype: object"
      ]
     },
     "execution_count": 7,
     "metadata": {},
     "output_type": "execute_result"
    }
   ],
   "source": [
    "train.text.iloc[np.greater(hits,0.5)]"
   ]
  },
  {
   "cell_type": "markdown",
   "metadata": {},
   "source": [
    "All of the items with the exception of 175 seem to begin identically to the test string. 175 looks a bit different. Let's have a close look at the entire string."
   ]
  },
  {
   "cell_type": "code",
   "execution_count": 8,
   "metadata": {},
   "outputs": [
    {
     "name": "stdout",
     "output_type": "stream",
     "text": [
      "Twelve feared killed in Pakistani air ambulance helicopter crash\n",
      "Pakistan air ambulance helicopter crash kills nine \n"
     ]
    }
   ],
   "source": [
    "print(test_string)\n",
    "print(train.text.iloc[175])"
   ]
  },
  {
   "cell_type": "markdown",
   "metadata": {},
   "source": [
    "This is an unlikely candidate for a duplicate. It's about a crash that kills nine, not twelve. What's it's cosine similarity score?"
   ]
  },
  {
   "cell_type": "code",
   "execution_count": 9,
   "metadata": {},
   "outputs": [
    {
     "data": {
      "text/plain": [
       "0.5345224838248487"
      ]
     },
     "execution_count": 9,
     "metadata": {},
     "output_type": "execute_result"
    }
   ],
   "source": [
    "hits[175]"
   ]
  },
  {
   "cell_type": "markdown",
   "metadata": {},
   "source": [
    "This value is just above our threshold of 0.5. Maybe we should select a higher number for the similarity threshold? Let's look at tweets with lower, but non-zero, similarity."
   ]
  },
  {
   "cell_type": "code",
   "execution_count": 10,
   "metadata": {},
   "outputs": [
    {
     "data": {
      "text/plain": [
       "14        Damage to school bus on 80 in multi car crash  \n",
       "83       Overturns On  Interstate  Click here if you'v...\n",
       "85      Carolina accident: Motorcyclist Dies in I-540 ...\n",
       "100     .  police had previously died in a road accide...\n",
       "148       mbataweel:   Family members who killed in an...\n",
       "                              ...                        \n",
       "7403    Officer Wounded Suspect Killed in Exchange of ...\n",
       "7405      Richmond police officer wounded suspect killed \n",
       "7408    California cops have sketch of gunman who kill...\n",
       "7433     Officer Wounded Suspect Killed in Exchange of...\n",
       "7588    BREAKING:  claims responsibility for mosque at...\n",
       "Name: text, Length: 157, dtype: object"
      ]
     },
     "execution_count": 10,
     "metadata": {},
     "output_type": "execute_result"
    }
   ],
   "source": [
    "train.text.iloc[np.greater(hits,0.1) & np.less(hits,0.5)]"
   ]
  },
  {
   "cell_type": "markdown",
   "metadata": {},
   "source": [
    "These look like they're definitely not duplicates. Interestingly we see indices 10130 and 10136 look like duplicates.\n",
    "\n",
    "In the next step, we have to compare each tweet with every other. We can compute the cosine similarity between every pair of tweets. The result is a matrix of similarity scores. "
   ]
  },
  {
   "cell_type": "code",
   "execution_count": 11,
   "metadata": {},
   "outputs": [],
   "source": [
    "csim = cosine_similarity(vectors, vectors)"
   ]
  }
 ],
 "metadata": {
  "kernelspec": {
   "display_name": "Python 3",
   "language": "python",
   "name": "python3"
  },
  "language_info": {
   "codemirror_mode": {
    "name": "ipython",
    "version": 3
   },
   "file_extension": ".py",
   "mimetype": "text/x-python",
   "name": "python",
   "nbconvert_exporter": "python",
   "pygments_lexer": "ipython3",
   "version": "3.7.6"
  }
 },
 "nbformat": 4,
 "nbformat_minor": 4
}
