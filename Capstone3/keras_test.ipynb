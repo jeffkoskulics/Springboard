{
 "cells": [
  {
   "cell_type": "code",
   "execution_count": 1,
   "metadata": {},
   "outputs": [],
   "source": [
    "# imports\n",
    "\n",
    "import keras\n",
    "from keras.datasets import mnist\n",
    "from keras.models import Sequential\n",
    "from keras.layers import Dense, Dropout, Flatten\n",
    "from keras.layers import Conv2D, MaxPooling2D\n",
    "from keras import backend as K"
   ]
  },
  {
   "cell_type": "code",
   "execution_count": 9,
   "metadata": {},
   "outputs": [],
   "source": [
    "# Hyperparameters\n",
    "\n",
    "num_classes = 10\n",
    "batch_size = 128\n",
    "epochs = 12"
   ]
  },
  {
   "cell_type": "code",
   "execution_count": 10,
   "metadata": {},
   "outputs": [],
   "source": [
    "# Image Resolution\n",
    "\n",
    "img_rows, img_cols = 28, 28\n",
    "\n",
    "# Loading the data.\n",
    "\n",
    "(x_train, y_train), (x_test, y_test) = mnist.load_data()"
   ]
  },
  {
   "cell_type": "code",
   "execution_count": 11,
   "metadata": {},
   "outputs": [
    {
     "name": "stdout",
     "output_type": "stream",
     "text": [
      "x_train shape: (60000, 28, 28, 1)\n",
      "60000 train samples\n",
      "10000 test samples\n"
     ]
    }
   ],
   "source": [
    "if K.image_data_format() == 'channels_first':\n",
    "    x_train = x_train.reshape(x_train.shape[0], 1, img_rows, img_cols)\n",
    "    x_test = x_test.reshape(x_test.shape[0], 1, img_rows, img_cols)\n",
    "    input_shape = (1, img_rows, img_cols)\n",
    "else:\n",
    "    x_train = x_train.reshape(x_train.shape[0], img_rows, img_cols, 1)\n",
    "    x_test = x_test.reshape(x_test.shape[0], img_rows, img_cols, 1)\n",
    "    input_shape = (img_rows, img_cols, 1)\n",
    "\n",
    "\n",
    "x_train = x_train.astype('float32')\n",
    "x_test = x_test.astype('float32')\n",
    "x_train /= 255\n",
    "x_test /= 255\n",
    "print('x_train shape:', x_train.shape)\n",
    "print(x_train.shape[0], 'train samples')\n",
    "print(x_test.shape[0], 'test samples')\n",
    "\n",
    "y_train = keras.utils.to_categorical(y_train, num_classes)\n",
    "y_test = keras.utils.to_categorical(y_test, num_classes)"
   ]
  },
  {
   "cell_type": "code",
   "execution_count": 7,
   "metadata": {},
   "outputs": [],
   "source": [
    "# Creating the Model \n",
    "\n",
    "model = Sequential()\n",
    "model.add(Conv2D(32, kernel_size=(3, 3),activation='relu',input_shape=input_shape))\n",
    "model.add(Conv2D(64, (3, 3), activation='relu'))\n",
    "model.add(MaxPooling2D(pool_size=(2, 2)))\n",
    "model.add(Dropout(0.25))\n",
    "model.add(Flatten())\n",
    "model.add(Dense(128, activation='relu'))\n",
    "model.add(Dropout(0.5))\n",
    "model.add(Dense(num_classes, activation='softmax'))\n",
    "model.compile(loss=keras.losses.categorical_crossentropy,\n",
    "              optimizer=keras.optimizers.Adadelta(),\n",
    "              metrics=['accuracy'])"
   ]
  },
  {
   "cell_type": "code",
   "execution_count": 8,
   "metadata": {},
   "outputs": [
    {
     "name": "stdout",
     "output_type": "stream",
     "text": [
      "Epoch 1/12\n",
      "469/469 [==============================] - 83s 177ms/step - loss: 2.2885 - accuracy: 0.1438 - val_loss: 2.2518 - val_accuracy: 0.3948\n",
      "Epoch 2/12\n",
      "469/469 [==============================] - 88s 188ms/step - loss: 2.2287 - accuracy: 0.2826 - val_loss: 2.1782 - val_accuracy: 0.5265\n",
      "Epoch 3/12\n",
      "469/469 [==============================] - 90s 192ms/step - loss: 2.1496 - accuracy: 0.3920 - val_loss: 2.0742 - val_accuracy: 0.6028\n",
      "Epoch 4/12\n",
      "469/469 [==============================] - 89s 190ms/step - loss: 2.0380 - accuracy: 0.4654 - val_loss: 1.9277 - val_accuracy: 0.6610\n",
      "Epoch 5/12\n",
      "469/469 [==============================] - 88s 188ms/step - loss: 1.8892 - accuracy: 0.5198 - val_loss: 1.7382 - val_accuracy: 0.7037\n",
      "Epoch 6/12\n",
      "469/469 [==============================] - 89s 189ms/step - loss: 1.7107 - accuracy: 0.5661 - val_loss: 1.5190 - val_accuracy: 0.7412\n",
      "Epoch 7/12\n",
      "469/469 [==============================] - 92s 196ms/step - loss: 1.5234 - accuracy: 0.6050 - val_loss: 1.3014 - val_accuracy: 0.7696\n",
      "Epoch 8/12\n",
      "469/469 [==============================] - 89s 189ms/step - loss: 1.3560 - accuracy: 0.6340 - val_loss: 1.1141 - val_accuracy: 0.7923\n",
      "Epoch 9/12\n",
      "469/469 [==============================] - 94s 200ms/step - loss: 1.2132 - accuracy: 0.6615 - val_loss: 0.9640 - val_accuracy: 0.8085\n",
      "Epoch 10/12\n",
      "469/469 [==============================] - 88s 187ms/step - loss: 1.1013 - accuracy: 0.6817 - val_loss: 0.8496 - val_accuracy: 0.8225\n",
      "Epoch 11/12\n",
      "469/469 [==============================] - 89s 189ms/step - loss: 1.0144 - accuracy: 0.7020 - val_loss: 0.7617 - val_accuracy: 0.8316\n",
      "Epoch 12/12\n",
      "469/469 [==============================] - 89s 191ms/step - loss: 0.9451 - accuracy: 0.7171 - val_loss: 0.6947 - val_accuracy: 0.8412\n"
     ]
    },
    {
     "data": {
      "text/plain": [
       "<tensorflow.python.keras.callbacks.History at 0x7fb473b531d0>"
      ]
     },
     "execution_count": 8,
     "metadata": {},
     "output_type": "execute_result"
    }
   ],
   "source": [
    "# Training the Model\n",
    "\n",
    "model.fit(x_train, y_train,\n",
    "          batch_size=batch_size,\n",
    "          epochs=epochs,\n",
    "          verbose=1,\n",
    "          validation_data=(x_test, y_test))"
   ]
  },
  {
   "cell_type": "code",
   "execution_count": 9,
   "metadata": {},
   "outputs": [
    {
     "name": "stdout",
     "output_type": "stream",
     "text": [
      "Test loss: 0.6946696043014526\n",
      "Test accuracy: 0.8411999940872192\n"
     ]
    }
   ],
   "source": [
    "# Evaluating the Predictions on the Model\n",
    "\n",
    "score = model.evaluate(x_test, y_test, verbose=0)\n",
    "print('Test loss:', score[0])\n",
    "print('Test accuracy:', score[1])"
   ]
  },
  {
   "cell_type": "code",
   "execution_count": 10,
   "metadata": {},
   "outputs": [],
   "source": [
    "model_json = model.to_json()\n",
    "with open(\"model.json\", \"w\") as json_file:\n",
    "    json_file.write(model_json)\n",
    "# serialize weights to HDF5\n",
    "model.save_weights(\"model.h5\")"
   ]
  },
  {
   "cell_type": "code",
   "execution_count": 13,
   "metadata": {},
   "outputs": [
    {
     "name": "stdout",
     "output_type": "stream",
     "text": [
      "Loaded Model from disk\n"
     ]
    }
   ],
   "source": [
    "from tensorflow.keras.models import model_from_json\n",
    "\n",
    "# opening and store file in a variable\n",
    "\n",
    "json_file = open('model.json','r')\n",
    "loaded_model_json = json_file.read()\n",
    "json_file.close()\n",
    "\n",
    "# use Keras model_from_json to make a loaded model\n",
    "\n",
    "loaded_model = model_from_json(loaded_model_json)\n",
    "\n",
    "# load weights into new model\n",
    "\n",
    "loaded_model.load_weights(\"model.h5\")\n",
    "print(\"Loaded Model from disk\")\n",
    "\n",
    "# compile and evaluate loaded model\n",
    "\n",
    "loaded_model.compile(loss='categorical_crossentropy',optimizer='adam',metrics=['accuracy'])"
   ]
  },
  {
   "cell_type": "code",
   "execution_count": 14,
   "metadata": {},
   "outputs": [
    {
     "name": "stdout",
     "output_type": "stream",
     "text": [
      "Test loss: 0.6946696043014526\n",
      "Test accuracy: 0.8411999940872192\n"
     ]
    }
   ],
   "source": [
    "score = loaded_model.evaluate(x_test, y_test, verbose=0)\n",
    "print('Test loss:', score[0])\n",
    "print('Test accuracy:', score[1])"
   ]
  },
  {
   "cell_type": "code",
   "execution_count": 25,
   "metadata": {},
   "outputs": [
    {
     "data": {
      "image/png": "[encoded data removed]",
      "text/plain": [
       "<Figure size 432x288 with 1 Axes>"
      ]
     },
     "metadata": {
      "needs_background": "light"
     },
     "output_type": "display_data"
    }
   ],
   "source": [
    "import matplotlib.pyplot as plt\n",
    "plt.imshow(x_test[0].reshape(28,28)*255,cmap='gray', vmin=0, vmax=255)\n",
    "plt.show()"
   ]
  },
  {
   "cell_type": "code",
   "execution_count": 24,
   "metadata": {},
   "outputs": [
    {
     "data": {
      "text/plain": [
       "array([[6.55462267e-03, 3.36487428e-03, 5.87403309e-03, 2.15140507e-02,\n",
       "        1.09246839e-02, 6.07993733e-03, 1.79236836e-03, 9.06048000e-01,\n",
       "        7.31139770e-03, 3.05360183e-02],\n",
       "       [2.33119298e-02, 2.65770685e-02, 6.40145421e-01, 9.74861160e-02,\n",
       "        4.46961465e-04, 5.24875745e-02, 1.22624844e-01, 6.82173064e-04,\n",
       "        3.42229158e-02, 2.01496971e-03],\n",
       "       [7.55006541e-03, 7.67176032e-01, 5.39401509e-02, 2.46638674e-02,\n",
       "        1.14143193e-02, 1.69201437e-02, 2.71754935e-02, 2.54876036e-02,\n",
       "        3.33299041e-02, 3.23423855e-02],\n",
       "       [8.00036252e-01, 3.65308224e-04, 7.42191309e-03, 3.17574665e-02,\n",
       "        1.79796689e-03, 5.57084046e-02, 8.03282037e-02, 1.10101746e-02,\n",
       "        5.58457244e-03, 5.98974340e-03]], dtype=float32)"
      ]
     },
     "execution_count": 24,
     "metadata": {},
     "output_type": "execute_result"
    }
   ],
   "source": [
    "loaded_model.predict(x_test[0:4])"
   ]
  },
  {
   "cell_type": "code",
   "execution_count": 35,
   "metadata": {},
   "outputs": [
    {
     "name": "stdout",
     "output_type": "stream",
     "text": [
      "7\n"
     ]
    }
   ],
   "source": [
    "import numpy as np\n",
    "p = np.argmax(loaded_model.predict(x_test[0:4]),axis=-1)\n",
    "print(str(p[0]))"
   ]
  },
  {
   "cell_type": "code",
   "execution_count": 41,
   "metadata": {},
   "outputs": [
    {
     "name": "stderr",
     "output_type": "stream",
     "text": [
      "/opt/anaconda3/lib/python3.7/site-packages/ipykernel_launcher.py:5: MatplotlibDeprecationWarning: Adding an axes using the same arguments as a previous axes currently reuses the earlier instance.  In a future version, a new instance will always be created and returned.  Meanwhile, this warning can be suppressed, and the future behavior ensured, by passing a unique label to each axes instance.\n",
      "  \"\"\"\n"
     ]
    },
    {
     "data": {
      "image/png": "[encoded data removed]",
      "text/plain": [
       "<Figure size 432x288 with 20 Axes>"
      ]
     },
     "metadata": {
      "needs_background": "light"
     },
     "output_type": "display_data"
    }
   ],
   "source": [
    "rows = 4\n",
    "cols = 5\n",
    "plt.subplot(rows,cols,1)\n",
    "for i in range(rows*cols):\n",
    "    plt.subplot(rows,cols,i+1)\n",
    "    plt.imshow(x_test[i].reshape(28,28)*255,cmap='gray', vmin=0, vmax=255)\n",
    "    prediction = str(np.argmax(loaded_model.predict(x_test[i:i+1])))\n",
    "    plt.title(prediction)\n",
    "plt.tight_layout()\n",
    "plt.show()    "
   ]
  },
  {
   "cell_type": "code",
   "execution_count": 45,
   "metadata": {},
   "outputs": [],
   "source": [
    "# an optimized model\n",
    "from keras.layers import BatchNormalization\n",
    "\n",
    "j = 0\n",
    "model = list()\n",
    "model.append(Sequential())\n",
    "\n",
    "model[j].add(Conv2D(32,kernel_size=3,activation='relu',input_shape=(28,28,1)))\n",
    "model[j].add(BatchNormalization())\n",
    "model[j].add(Conv2D(32,kernel_size=3,activation='relu'))\n",
    "model[j].add(BatchNormalization())\n",
    "model[j].add(Conv2D(32,kernel_size=5,strides=2,padding='same',activation='relu'))\n",
    "model[j].add(BatchNormalization())\n",
    "model[j].add(Dropout(0.4))\n",
    "\n",
    "model[j].add(Conv2D(64,kernel_size=3,activation='relu'))\n",
    "model[j].add(BatchNormalization())\n",
    "model[j].add(Conv2D(64,kernel_size=3,activation='relu'))\n",
    "model[j].add(BatchNormalization())\n",
    "model[j].add(Conv2D(64,kernel_size=5,strides=2,padding='same',activation='relu'))\n",
    "model[j].add(BatchNormalization())\n",
    "model[j].add(Dropout(0.4))\n",
    "\n",
    "model[j].add(Flatten())\n",
    "model[j].add(Dense(128, activation='relu'))\n",
    "model[j].add(BatchNormalization())\n",
    "model[j].add(Dropout(0.4))\n",
    "model[j].add(Dense(10, activation='softmax'))\n",
    "\n",
    "model[j].compile(optimizer=\"adam\", loss=\"categorical_crossentropy\", metrics=[\"accuracy\"])"
   ]
  },
  {
   "cell_type": "code",
   "execution_count": 47,
   "metadata": {},
   "outputs": [
    {
     "name": "stdout",
     "output_type": "stream",
     "text": [
      "Epoch 1/12\n",
      "469/469 [==============================] - 127s 270ms/step - loss: 0.2403 - accuracy: 0.9263 - val_loss: 0.0920 - val_accuracy: 0.9721\n",
      "Epoch 2/12\n",
      "469/469 [==============================] - 146s 311ms/step - loss: 0.0641 - accuracy: 0.9806 - val_loss: 0.0312 - val_accuracy: 0.9889\n",
      "Epoch 3/12\n",
      "469/469 [==============================] - 153s 327ms/step - loss: 0.0469 - accuracy: 0.9859 - val_loss: 0.0227 - val_accuracy: 0.9922\n",
      "Epoch 4/12\n",
      "469/469 [==============================] - 147s 313ms/step - loss: 0.0404 - accuracy: 0.9882 - val_loss: 0.0265 - val_accuracy: 0.9921\n",
      "Epoch 5/12\n",
      "469/469 [==============================] - 153s 326ms/step - loss: 0.0359 - accuracy: 0.9888 - val_loss: 0.0228 - val_accuracy: 0.9925\n",
      "Epoch 6/12\n",
      "469/469 [==============================] - 145s 309ms/step - loss: 0.0317 - accuracy: 0.9903 - val_loss: 0.0249 - val_accuracy: 0.9927\n",
      "Epoch 7/12\n",
      "469/469 [==============================] - 148s 315ms/step - loss: 0.0308 - accuracy: 0.9903 - val_loss: 0.0224 - val_accuracy: 0.9926\n",
      "Epoch 8/12\n",
      "469/469 [==============================] - 144s 306ms/step - loss: 0.0254 - accuracy: 0.9925 - val_loss: 0.0197 - val_accuracy: 0.9937\n",
      "Epoch 9/12\n",
      "469/469 [==============================] - 144s 308ms/step - loss: 0.0255 - accuracy: 0.9918 - val_loss: 0.0212 - val_accuracy: 0.9931\n",
      "Epoch 10/12\n",
      "469/469 [==============================] - 144s 306ms/step - loss: 0.0238 - accuracy: 0.9924 - val_loss: 0.0192 - val_accuracy: 0.9935\n",
      "Epoch 11/12\n",
      "469/469 [==============================] - 155s 331ms/step - loss: 0.0247 - accuracy: 0.9926 - val_loss: 0.0197 - val_accuracy: 0.9938\n",
      "Epoch 12/12\n",
      "469/469 [==============================] - 145s 309ms/step - loss: 0.0198 - accuracy: 0.9940 - val_loss: 0.0248 - val_accuracy: 0.9927\n"
     ]
    },
    {
     "data": {
      "text/plain": [
       "<tensorflow.python.keras.callbacks.History at 0x7fcb5d7676d0>"
      ]
     },
     "execution_count": 47,
     "metadata": {},
     "output_type": "execute_result"
    }
   ],
   "source": [
    "model[0].fit(x_train, y_train,\n",
    "          batch_size=batch_size,\n",
    "          epochs=epochs,\n",
    "          verbose=1,\n",
    "          validation_data=(x_test, y_test))"
   ]
  },
  {
   "cell_type": "code",
   "execution_count": 49,
   "metadata": {},
   "outputs": [],
   "source": [
    "model_json1 = model[0].to_json()\n",
    "with open(\"model1.json\", \"w\") as json_file:\n",
    "    json_file.write(model_json1)\n",
    "# serialize weights to HDF5\n",
    "model[0].save_weights(\"model1.h5\")"
   ]
  },
  {
   "cell_type": "code",
   "execution_count": 50,
   "metadata": {},
   "outputs": [
    {
     "name": "stdout",
     "output_type": "stream",
     "text": [
      "Loaded Model from disk\n",
      "Test loss: 0.02480912394821644\n",
      "Test accuracy: 0.9926999807357788\n"
     ]
    }
   ],
   "source": [
    "json_file = open('model1.json','r')\n",
    "loaded_model_json = json_file.read()\n",
    "json_file.close()\n",
    "\n",
    "# use Keras model_from_json to make a loaded model\n",
    "\n",
    "loaded_model = model_from_json(loaded_model_json)\n",
    "\n",
    "# load weights into new model\n",
    "\n",
    "loaded_model.load_weights(\"model1.h5\")\n",
    "print(\"Loaded Model from disk\")\n",
    "\n",
    "# compile and evaluate loaded model\n",
    "\n",
    "loaded_model.compile(loss='categorical_crossentropy',optimizer='adam',metrics=['accuracy'])\n",
    "score = loaded_model.evaluate(x_test, y_test, verbose=0)\n",
    "print('Test loss:', score[0])\n",
    "print('Test accuracy:', score[1])"
   ]
  },
  {
   "cell_type": "code",
   "execution_count": 51,
   "metadata": {},
   "outputs": [
    {
     "name": "stderr",
     "output_type": "stream",
     "text": [
      "/opt/anaconda3/lib/python3.7/site-packages/ipykernel_launcher.py:5: MatplotlibDeprecationWarning: Adding an axes using the same arguments as a previous axes currently reuses the earlier instance.  In a future version, a new instance will always be created and returned.  Meanwhile, this warning can be suppressed, and the future behavior ensured, by passing a unique label to each axes instance.\n",
      "  \"\"\"\n"
     ]
    },
    {
     "data": {
      "image/png": "[encoded data removed]",
      "text/plain": [
       "<Figure size 432x288 with 20 Axes>"
      ]
     },
     "metadata": {
      "needs_background": "light"
     },
     "output_type": "display_data"
    }
   ],
   "source": [
    "rows = 4\n",
    "cols = 5\n",
    "plt.subplot(rows,cols,1)\n",
    "for i in range(rows*cols):\n",
    "    plt.subplot(rows,cols,i+1)\n",
    "    plt.imshow(x_test[i].reshape(28,28)*255,cmap='gray', vmin=0, vmax=255)\n",
    "    prediction = str(np.argmax(loaded_model.predict(x_test[i:i+1])))\n",
    "    plt.title(prediction)\n",
    "plt.tight_layout()\n",
    "plt.show()  "
   ]
  },
  {
   "cell_type": "code",
   "execution_count": 52,
   "metadata": {},
   "outputs": [
    {
     "name": "stdout",
     "output_type": "stream",
     "text": [
      "Model: \"sequential_3\"\n",
      "_________________________________________________________________\n",
      "Layer (type)                 Output Shape              Param #   \n",
      "=================================================================\n",
      "conv2d_1 (Conv2D)            (None, 26, 26, 32)        320       \n",
      "_________________________________________________________________\n",
      "batch_normalization (BatchNo (None, 26, 26, 32)        128       \n",
      "_________________________________________________________________\n",
      "conv2d_2 (Conv2D)            (None, 24, 24, 32)        9248      \n",
      "_________________________________________________________________\n",
      "batch_normalization_1 (Batch (None, 24, 24, 32)        128       \n",
      "_________________________________________________________________\n",
      "conv2d_3 (Conv2D)            (None, 12, 12, 32)        25632     \n",
      "_________________________________________________________________\n",
      "batch_normalization_2 (Batch (None, 12, 12, 32)        128       \n",
      "_________________________________________________________________\n",
      "dropout (Dropout)            (None, 12, 12, 32)        0         \n",
      "_________________________________________________________________\n",
      "conv2d_4 (Conv2D)            (None, 10, 10, 64)        18496     \n",
      "_________________________________________________________________\n",
      "batch_normalization_3 (Batch (None, 10, 10, 64)        256       \n",
      "_________________________________________________________________\n",
      "conv2d_5 (Conv2D)            (None, 8, 8, 64)          36928     \n",
      "_________________________________________________________________\n",
      "batch_normalization_4 (Batch (None, 8, 8, 64)          256       \n",
      "_________________________________________________________________\n",
      "conv2d_6 (Conv2D)            (None, 4, 4, 64)          102464    \n",
      "_________________________________________________________________\n",
      "batch_normalization_5 (Batch (None, 4, 4, 64)          256       \n",
      "_________________________________________________________________\n",
      "dropout_1 (Dropout)          (None, 4, 4, 64)          0         \n",
      "_________________________________________________________________\n",
      "flatten (Flatten)            (None, 1024)              0         \n",
      "_________________________________________________________________\n",
      "dense (Dense)                (None, 128)               131200    \n",
      "_________________________________________________________________\n",
      "batch_normalization_6 (Batch (None, 128)               512       \n",
      "_________________________________________________________________\n",
      "dropout_2 (Dropout)          (None, 128)               0         \n",
      "_________________________________________________________________\n",
      "dense_1 (Dense)              (None, 10)                1290      \n",
      "=================================================================\n",
      "Total params: 327,242\n",
      "Trainable params: 326,410\n",
      "Non-trainable params: 832\n",
      "_________________________________________________________________\n"
     ]
    }
   ],
   "source": [
    "loaded_model.summary()"
   ]
  },
  {
   "cell_type": "code",
   "execution_count": 57,
   "metadata": {},
   "outputs": [
    {
     "data": {
      "text/plain": [
       "<tensorflow.python.keras.layers.convolutional.Conv2D at 0x7fcb5b12dd90>"
      ]
     },
     "execution_count": 57,
     "metadata": {},
     "output_type": "execute_result"
    }
   ],
   "source": [
    "loaded_model.layers[0]"
   ]
  },
  {
   "cell_type": "code",
   "execution_count": null,
   "metadata": {},
   "outputs": [],
   "source": []
  }
 ],
 "metadata": {
  "kernelspec": {
   "display_name": "Python 3",
   "language": "python",
   "name": "python3"
  },
  "language_info": {
   "codemirror_mode": {
    "name": "ipython",
    "version": 3
   },
   "file_extension": ".py",
   "mimetype": "text/x-python",
   "name": "python",
   "nbconvert_exporter": "python",
   "pygments_lexer": "ipython3",
   "version": "3.7.6"
  }
 },
 "nbformat": 4,
 "nbformat_minor": 4
}
